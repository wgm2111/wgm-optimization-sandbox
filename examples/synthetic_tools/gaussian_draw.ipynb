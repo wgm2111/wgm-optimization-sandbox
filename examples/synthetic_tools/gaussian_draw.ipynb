{
 "cells": [
  {
   "cell_type": "code",
   "execution_count": 25,
   "metadata": {
    "collapsed": false
   },
   "outputs": [],
   "source": [
    "\n",
    "# Imports for making plots inline\n",
    "%matplotlib inline\n",
    "import matplotlib\n",
    "import matplotlib.pyplot as plt\n",
    "\n",
    "\n",
    "# Imports for the calculation\n",
    "import scipy as sp\n",
    "from numpy import isscalar\n",
    "from scipy.linalg import inv, cholesky, solve, lu_factor, lu_solve\n",
    "from scipy import stats\n"
   ]
  },
  {
   "cell_type": "code",
   "execution_count": 30,
   "metadata": {
    "collapsed": true
   },
   "outputs": [],
   "source": [
    "# Function to sample a covariance matrix\n",
    "def gaussian_draw(mean, S, draws=1, draw=stats.norm.rvs):\n",
    "    \"\"\"\n",
    "    Return a random sample of the given multivariate gaussian \n",
    "    density function defined by the mean and covariance matrix.\n",
    "\n",
    "    IN\n",
    "    ==\n",
    "    mean   - Array with shape (N,)   \n",
    "    S      - The covariance matrix OR its diagonal OR the variance for i.i.d. Gaussian\n",
    "    draws  - numer of smaples to make (returned along first dimention)\n",
    "    draw   - The standard normal random number generator\n",
    "    \"\"\"\n",
    "    # Check size of random vector \n",
    "    N = mean.size\n",
    "    \n",
    "    # check for diagonality of covariance matrix\n",
    "    if isscalar(S):\n",
    "        Croot = sp.eye(N) * sp.sqrt(S)\n",
    "        \n",
    "    elif len(S.shape) == 1:\n",
    "        assert S.size == N\n",
    "        Croot = sp.diag(sp.sqrt(S))\n",
    "        \n",
    "    elif len(S.shape) == 2:\n",
    "        assert S.size == N**2\n",
    "        Croot = cholesky(S).transpose()\n",
    "\n",
    "    # Sample from standard normal and transpose\n",
    "    xstand = draw(size=N*draws).reshape(N, draws)\n",
    "    \n",
    "    # Transform to a variable with the right mean and covariance.\n",
    "    xout = sp.dot(Croot, xstand).T + mean\n",
    "\n",
    "    return sp.squeeze(xout)\n",
    "\n",
    "\n",
    "# Function for computing the moments of a given set of samples \n",
    "def chi2_moments(x, S, mean=None):\n",
    "    \"\"\"\n",
    "    Compute the normalized \n",
    "    S ~ (N,N)\n",
    "    x ~ (Nsamples, N)\n",
    "    \"\"\"\n",
    "    \n",
    "    # Check size of random vector \n",
    "    Nsamples, N = x.shape\n",
    "    \n",
    "    # Define a covariance matrix from S\n",
    "    if isscalar(S):\n",
    "        Sinv = sp.eye(N) / S\n",
    "    elif len(S.shape) == 1:\n",
    "        assert S.size == N\n",
    "        Sinv = sp.diag(1.0 / S)\n",
    "            \n",
    "    elif len(S.shape) == 2:\n",
    "        assert S.size == N**2\n",
    "        Sinv = inv(S)         \n",
    "    else:\n",
    "        raise ValueError('S~{} and x~{} are not compatable.'.format(S.shape, x.shape))\n",
    "\n",
    "    # Define the mean if not given\n",
    "    if mean is None: \n",
    "        DOF = N-1\n",
    "        mean = x.mean(0)\n",
    "    else:\n",
    "        DOF = N\n",
    "\n",
    "    # We need S inverse to compute chi-squared . . . \n",
    "    # For some reason I thought it would be clever to use LU factorization \n",
    "    z = x - mean\n",
    "    zz = z.reshape(Nsamples, N, -1) * z.reshape(Nsamples, -1, N)\n",
    "    chi2 = sp.tensordot(zz, Sinv, axes=[(1,2), (0,1)]) \n",
    "    \n",
    "    # The draw for probability S can be tested by \n",
    "    chi2_mean = chi2.mean()\n",
    "    chi2_var = ((chi2-chi2_mean)**2).sum()/(Nsamples-1.0)\n",
    "    std = sp.sqrt(chi2_var)\n",
    "    chi2_skew = ((chi2-chi2_mean)**3).mean() / std**3\n",
    "    chi2_kert = ((chi2-chi2_mean)**4).mean() / std**4\n",
    "    return DOF, chi2_mean, chi2_var, chi2_skew, chi2_kert\n"
   ]
  },
  {
   "cell_type": "code",
   "execution_count": 31,
   "metadata": {
    "collapsed": false
   },
   "outputs": [
    {
     "data": {
      "image/png": "[encoded data removed]",
      "text/plain": [
       "<matplotlib.figure.Figure at 0x7fe01ff7c810>"
      ]
     },
     "metadata": {},
     "output_type": "display_data"
    }
   ],
   "source": [
    "# make a simple plot of a 2D case\n",
    "M = 500\n",
    "\n",
    "# The mean \n",
    "xmean = sp.array([1.0, \n",
    "                  1.0])\n",
    "\n",
    "# The covariance matrix\n",
    "S = (.1)**2 * sp.array([[1.0, -0.99], \n",
    "                        [-0.99, 1.0]])\n",
    "\n",
    "# Draw a bunch of samples\n",
    "xdraws = gaussian_draw(xmean, S, M)\n",
    "\n",
    "# Plot them\n",
    "fig = plt.figure(0)\n",
    "fig.clf()\n",
    "plots = plt.plot(*xdraws.T, linewidth=0, marker='.')\n"
   ]
  },
  {
   "cell_type": "code",
   "execution_count": 33,
   "metadata": {
    "collapsed": false
   },
   "outputs": [
    {
     "name": "stdout",
     "output_type": "stream",
     "text": [
      "\n",
      "Chi2 results:\n",
      "=============\n",
      "N = 100, \tM = 50000\n",
      "chi2_mean = 99.9861761857\n",
      "chi2_var = 201.423168326\n",
      "chi2_skew = 0.287296732698\n",
      "chi2_kert = 3.136647308\n",
      "\n",
      "\n",
      "\n",
      "Chi2 results:\n",
      "=============\n",
      "N = 100, \tM = 50000\n",
      "chi2_mean = 99.9689155454\n",
      "chi2_var = 197.910990255\n",
      "chi2_skew = 0.280885437341\n",
      "chi2_kert = 3.05539817348\n",
      "\n",
      "\n",
      "\n",
      "Chi2 results:\n",
      "=============\n",
      "N = 100, \tM = 50000\n",
      "chi2_mean = 99.9385225008\n",
      "chi2_var = 201.581928044\n",
      "chi2_skew = 0.288294972394\n",
      "chi2_kert = 3.13279346696\n",
      "\n",
      "\n"
     ]
    }
   ],
   "source": [
    "# Example: three test cases to make sure that the chi2 values look OK\n",
    "\n",
    "# Choose the size of the examples to run\n",
    "N = 100\n",
    "M = 50000\n",
    "\n",
    "# First example (S0 is a full covariance matrix)\n",
    "x0 = sp.ones(N)\n",
    "S0 = sp.ones((N,N)) + sp.eye(N)\n",
    "xdraws0 = gaussian_draw(x0, S0, draws=M)\n",
    "\n",
    "msg = \"\"\"\n",
    "Chi2 results:\n",
    "=============\n",
    "N = {0}, \\tM = {M}\n",
    "chi2_mean = {1}\n",
    "chi2_var = {2}\n",
    "chi2_skew = {3}\n",
    "chi2_kert = {4}\n",
    "\n",
    "\"\"\"\n",
    "print(msg.format(*chi2_moments(xdraws0, S0, mean=x0), M=M))\n",
    "\n",
    " \n",
    "# Second example (S1 is given as the diagonal elements)\n",
    "x1 = sp.ones(N)\n",
    "S1 = sp.arange(N) + 1.0\n",
    "xdraws1 = gaussian_draw(x1, S1, draws=M)\n",
    "print(msg.format(*chi2_moments(xdraws1, S1, mean=x1), M=M))\n",
    "\n",
    "# Third example (S2 is given as the variance)\n",
    "x2 = sp.ones(N)\n",
    "S2 = (100.0)**2 # variance is sig**2\n",
    "xdraws2 = gaussian_draw(x2, S2, draws=M)\n",
    "print(msg.format(*chi2_moments(xdraws2, S2, mean=x2), M=M))\n"
   ]
  },
  {
   "cell_type": "code",
   "execution_count": null,
   "metadata": {
    "collapsed": false
   },
   "outputs": [],
   "source": []
  },
  {
   "cell_type": "code",
   "execution_count": null,
   "metadata": {
    "collapsed": false
   },
   "outputs": [],
   "source": []
  },
  {
   "cell_type": "code",
   "execution_count": null,
   "metadata": {
    "collapsed": true
   },
   "outputs": [],
   "source": []
  }
 ],
 "metadata": {
  "kernelspec": {
   "display_name": "Python 2",
   "language": "python",
   "name": "python2"
  },
  "language_info": {
   "codemirror_mode": {
    "name": "ipython",
    "version": 2
   },
   "file_extension": ".py",
   "mimetype": "text/x-python",
   "name": "python",
   "nbconvert_exporter": "python",
   "pygments_lexer": "ipython2",
   "version": "2.7.10"
  }
 },
 "nbformat": 4,
 "nbformat_minor": 0
}
