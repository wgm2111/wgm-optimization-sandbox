{
 "cells": [
  {
   "cell_type": "code",
   "execution_count": 1,
   "metadata": {
    "collapsed": false
   },
   "outputs": [],
   "source": [
    "# scipy\n",
    "import scipy as sp\n",
    "from numpy import isscalar\n",
    "from scipy.linalg import inv, cholesky, solve, lu_factor, lu_solve\n",
    "from scipy import stats\n"
   ]
  },
  {
   "cell_type": "code",
   "execution_count": 68,
   "metadata": {
    "collapsed": true
   },
   "outputs": [],
   "source": [
    "# Function to sample a covariance matrix\n",
    "def gaussian_draw(mean, S, draws=1, draw=stats.norm.rvs):\n",
    "    \"\"\"\n",
    "    Return a random sample of the given multivariate gaussian \n",
    "    density function defined by the mean and covariance matrix.\n",
    "\n",
    "    IN\n",
    "    ==\n",
    "    mean   - Array with shape (N,)   \n",
    "    S      - The covariance matrix OR its diagonal OR the variance for i.i.d. Gaussian\n",
    "    draws  - numer of smaples to make (returned along first dimention)\n",
    "    draw   - The standard normal random number generator\n",
    "    \"\"\"\n",
    "    # Check size of random vector \n",
    "    N = mean.size\n",
    "    \n",
    "    # check for diagonality of covariance matrix\n",
    "    if isscalar(S):\n",
    "        Croot = sp.eye(N) * sp.sqrt(S)\n",
    "        \n",
    "    elif len(S.shape) == 1:\n",
    "        assert S.size == N\n",
    "        Croot = sp.diag(sp.sqrt(S))\n",
    "        \n",
    "    elif len(S.shape) == 2:\n",
    "        assert S.size == N**2\n",
    "        Croot = cholesky(S).transpose()\n",
    "\n",
    "    # Sample from standard normal and transpose\n",
    "    xstand = draw(size=N*draws).reshape(N, draws)\n",
    "    \n",
    "    # Transform to a variable with the right mean and covariance.\n",
    "    xout = sp.dot(Croot, xstand).T + mean\n",
    "\n",
    "    return sp.squeeze(xout)\n",
    "\n",
    "\n",
    "# Function for computing the moments of a given set of samples \n",
    "def chi2_moments(x, S, mean=None):\n",
    "    \"\"\"\n",
    "    Compute the normalized \n",
    "    S ~ (N,N)\n",
    "    x ~ (Nsamples, N)\n",
    "    \"\"\"\n",
    "    \n",
    "    # Check size of random vector \n",
    "    Nsamples, N = x.shape\n",
    "    \n",
    "    # Define a covariance matrix from S\n",
    "    if isscalar(S):\n",
    "        Sinv = sp.eye(N) / S\n",
    "    elif len(S.shape) == 1:\n",
    "        assert S.size == N\n",
    "        Sinv = sp.diag(1.0 / S)\n",
    "            \n",
    "    elif len(S.shape) == 2:\n",
    "        assert S.size == N**2\n",
    "        Sinv = inv(S)         \n",
    "    else:\n",
    "        raise ValueError('S~{} and x~{} are not compatable.'.format(S.shape, x.shape))\n",
    "\n",
    "    # Define the mean if not given\n",
    "    if mean is None: \n",
    "        DOF = N-1\n",
    "        mean = x.mean(0)\n",
    "    else:\n",
    "        DOF = N\n",
    "\n",
    "    # We need S inverse to compute chi-squared . . . \n",
    "    # For some reason I thought it would be clever to use LU factorization \n",
    "    z = x - mean\n",
    "    zz = z.reshape(Nsamples, N, -1) * z.reshape(Nsamples, -1, N)\n",
    "    chi2 = sp.tensordot(zz, Sinv, axes=[(1,2), (0,1)]) \n",
    "    \n",
    "    # The draw for probability S can be tested by \n",
    "    chi2_mean = chi2.mean()\n",
    "    chi2_var = ((chi2-chi2_mean)**2).sum()/(Nsamples-1.0)\n",
    "    std = sp.sqrt(chi2_var)\n",
    "    chi2_skew = (((chi2-chi2_mean)**3).sum() / std**3).mean()\n",
    "    chi2_kert = (((chi2-chi2_mean)**4).sum() / std**4).mean()\n",
    "    return DOF, chi2_mean, chi2_var, chi2_skew, chi2_kert\n"
   ]
  },
  {
   "cell_type": "code",
   "execution_count": 69,
   "metadata": {
    "collapsed": false
   },
   "outputs": [
    {
     "name": "stdout",
     "output_type": "stream",
     "text": [
      "\n",
      "Chi2 results:\n",
      "=============\n",
      "N = 100, \tM = 1000\n",
      "chi2_mean = 99.6251348559\n",
      "chi2_var = 218.543305147\n",
      "chi2_skew = 352.987620883\n",
      "chi2_kert = 3399.84541636\n",
      "\n",
      "\n",
      "\n",
      "Chi2 results:\n",
      "=============\n",
      "N = 100, \tM = 1000\n",
      "chi2_mean = 99.7965179521\n",
      "chi2_var = 187.609649943\n",
      "chi2_skew = 260.355882733\n",
      "chi2_kert = 3028.52868727\n",
      "\n",
      "\n",
      "\n",
      "Chi2 results:\n",
      "=============\n",
      "N = 100, \tM = 1000\n",
      "chi2_mean = 99.8316856973\n",
      "chi2_var = 208.646423822\n",
      "chi2_skew = 271.140376697\n",
      "chi2_kert = 2925.69922329\n",
      "\n",
      "\n"
     ]
    }
   ],
   "source": [
    "# Example: three test cases \n",
    "\n",
    "# Choose the size of the examples to run\n",
    "N = 100\n",
    "M = 1000\n",
    "\n",
    "# First example (S0 is a full covariance matrix)\n",
    "x0 = sp.ones(N)\n",
    "S0 = sp.ones((N,N)) + sp.eye(N)\n",
    "xdraws0 = gaussian_draw(x0, S0, draws=M)\n",
    "\n",
    "msg = \"\"\"\n",
    "Chi2 results:\n",
    "=============\n",
    "N = {0}, \\tM = {M}\n",
    "chi2_mean = {1}\n",
    "chi2_var = {2}\n",
    "chi2_skew = {3}\n",
    "chi2_kert = {4}\n",
    "\n",
    "\"\"\"\n",
    "print(msg.format(*chi2_moments(xdraws0, S0, mean=x0), M=M))\n",
    "\n",
    " \n",
    "# Second example (S1 is given as the diagonal elements)\n",
    "x1 = sp.ones(N)\n",
    "S1 = sp.arange(N) + 1.0\n",
    "xdraws1 = gaussian_draw(x1, S1, draws=M)\n",
    "print(msg.format(*chi2_moments(xdraws1, S1, mean=x1), M=M))\n",
    "\n",
    "# Third example (S2 is given as the variance)\n",
    "x2 = sp.ones(N)\n",
    "S2 = (100.0)**2 # variance is sig**2\n",
    "xdraws2 = gaussian_draw(x2, S2, draws=M)\n",
    "print(msg.format(*chi2_moments(xdraws2, S2, mean=x2), M=M))\n"
   ]
  },
  {
   "cell_type": "code",
   "execution_count": null,
   "metadata": {
    "collapsed": false
   },
   "outputs": [],
   "source": []
  },
  {
   "cell_type": "code",
   "execution_count": null,
   "metadata": {
    "collapsed": false
   },
   "outputs": [],
   "source": []
  },
  {
   "cell_type": "code",
   "execution_count": null,
   "metadata": {
    "collapsed": true
   },
   "outputs": [],
   "source": []
  }
 ],
 "metadata": {
  "kernelspec": {
   "display_name": "Python 2",
   "language": "python",
   "name": "python2"
  },
  "language_info": {
   "codemirror_mode": {
    "name": "ipython",
    "version": 2
   },
   "file_extension": ".py",
   "mimetype": "text/x-python",
   "name": "python",
   "nbconvert_exporter": "python",
   "pygments_lexer": "ipython2",
   "version": "2.7.10"
  }
 },
 "nbformat": 4,
 "nbformat_minor": 0
}
