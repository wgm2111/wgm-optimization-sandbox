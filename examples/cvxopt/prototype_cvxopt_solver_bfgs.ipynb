{
 "cells": [
  {
   "cell_type": "markdown",
   "metadata": {},
   "source": [
    "# Prototype solver example\n",
    "\n",
    "*I love convex optimization.  You tell \"qp\" to minimize a (non-negative definite) quadratic form over a polyhedron of fiesable points and it does it every time.*  \n",
    "\n",
    "## Practice for implementing a BFGS method with CVXOPT \n",
    "This notebook implements a BFGS method using the CVXOPT package with their quadratic program solver.  \n",
    "\n",
    "The QP problem is specified as follows: \n",
    "\\begin{align}\n",
    "\\mathrm{minimize}\\;&\\; \\frac{1}{2} x^{T} P x + q^{T} x\\\\\n",
    "\\mathrm{subject\\; to}\\;&\\; G x \\leq h\\\\\n",
    "\\;&\\; A x = b\n",
    "\\end{align}\n",
    "\n",
    "The implementation of BFGS here is based on setting up a QP to solve sub-problem of finding a step that will decrease the value of a non-linear cost function (here the rosenbrock function).  The Taylor approximation is written as follows: \n",
    "\\begin{align}\n",
    "f(x + s) \\approx f(x) + \\nabla f(x)^{T}\\, s + \\frac{1}{2} s^{T} \\,\\nabla\\nabla f(x)\\, s \n",
    "\\end{align}\n",
    "\n",
    "To use the Taylor approxiamtion formula I need the gradient and hessian.  The gradient can be computed, but the hessian is too expensive.  Insead BFGS uses an approximate hessian derived from previous calculations of the step, s, and the gradient, $\\nabla f(x)$. \n",
    "\n",
    "### Approximating the Hessian\n",
    "\n",
    "In this method I start with assuming that the Hessian is the identity matrix scaled by a large factor $\\gamma=1000$.  This factor puts restrictions on the size of the initial steps.  \n",
    "\\begin{align}\n",
    "H_{0} = \\gamma I\n",
    "\\end{align}\n",
    "\n",
    "Assuming we have the first step, s_{0}, already the Hessian will be updated as follows. \n",
    "\\begin{align}\n",
    "y0 &= \\nabla f(x_{0} + s_{0}) - \\nabla f(x_{0})\\\\\n",
    "h_{01} &= \\frac{H_{0} s_{0}}{\\sqrt{s_{0}^{T}H_{0}s_{0}}}\\\\\n",
    "h_{02} &= \\frac{y_{0}}{\\sqrt{y_{0}^{T} s_{0}}}\\\\\n",
    "H_{1} &= H_{0} - h_{01}^{T}\\,h_{01} + h_{02}^{T}\\,h_{02}\n",
    "\\end{align}\n",
    "One nessesary condition is positivity of the dot product $y^{T}s>0$.  Without this condition we cannot gaurentee that the resulting matrix will be positive definite. \n",
    "\n",
    "### Setting up the QP for the subproblem\n",
    "\n",
    "Using the above rule we are gauranteed to generate a positive definite $H$, which we can substitute into Taylor's formula.  This gives us a quadratic form to minimize. \n",
    "\\begin{align}\n",
    "\\Psi_{k}(s) = \\nabla f(x_{k})^{T} s_{k} + \\frac{1}{2} s_{k}^{T}H_{k}s_{k}.  \n",
    "\\end{align}\n",
    "Comparing this formula with the notation used by the cvxopt solver, we can see that the matrix $P=H_{k}$ and the vector, $q = \\nabla f(x_{k})$.  I add positivity constraints on the updated parameter, $x_{k+1} = x_{k} + s_{k}$, through the inequality constraints with $G=-I$ and $h=x_{k}$. \n",
    "\n",
    "### Memory effeciency: avoid keeping a dense $N \\times N$ hessian\n",
    "\n",
    "The proceedure assembles the approximate Hessian matrix, which is a dense matrix.  A better option would be to represent H in some sparse way.  I think this can be done by storing the vectors $h_{k1}$ and $h_{k2}$.  I'll need to add unknowns to the problem.  \n",
    "\n",
    "\n",
    "\n",
    "$z_{k, 1}=$using the equality constraints. "
   ]
  },
  {
   "cell_type": "code",
   "execution_count": 1,
   "metadata": {
    "collapsed": false
   },
   "outputs": [
    {
     "name": "stdout",
     "output_type": "stream",
     "text": [
      "machine epsilon: 2.22044604925e-16\n"
     ]
    }
   ],
   "source": [
    "%matplotlib inline\n",
    "import matplotlib.pyplot as plt\n",
    "\n",
    "import numpy as np\n",
    "import scipy as sp\n",
    "from scipy.optimize import minimize, rosen, rosen_der\n",
    "\n",
    "from cvxopt import blas, lapack, matrix, solvers \n",
    "solvers.options['show_progress'] = False\n",
    "\n",
    "EPS = sp.finfo(float).eps\n",
    "print(\"machine epsilon: {0}\".format(EPS))"
   ]
  },
  {
   "cell_type": "code",
   "execution_count": 2,
   "metadata": {
    "collapsed": false
   },
   "outputs": [
    {
     "name": "stdout",
     "output_type": "stream",
     "text": [
      "Optimization terminated successfully.\n",
      "         Current function value: 0.000000\n",
      "         Iterations: 84\n",
      "         Function evaluations: 159\n",
      "['status', 'success', 'final_simplex', 'nfev', 'fun', 'x', 'message', 'nit']\n",
      "\n",
      "fun = 5.84098143133e-18\n",
      "\n",
      "xmin = [ 1.  1.]\n"
     ]
    }
   ],
   "source": [
    "\n",
    "x0 = np.array([1.5, 1.5])#, 0.8, 1.9, 1.2])\n",
    "y0 = rosen(x0)\n",
    "dy0 = rosen_der(x0)\n",
    "\n",
    "\n",
    "res = minimize(rosen, x0, method='nelder-mead',\n",
    "               options={'xtol': 1e-8, 'disp': True})\n",
    "print(res.keys())\n",
    "print('\\nfun = {0}'.format(res['fun']))\n",
    "print('\\nxmin = {0}'.format(res['x']))"
   ]
  },
  {
   "cell_type": "code",
   "execution_count": 3,
   "metadata": {
    "collapsed": false
   },
   "outputs": [],
   "source": [
    "def my_descent(x0, max_steps=100, alpha=.0001, f=rosen, df=rosen_der):\n",
    "    \"Steepest decent algorithm. \"\n",
    "    alpha = .0001\n",
    "\n",
    "    #define old parameters\n",
    "    xnew = x0\n",
    "    fnew = f(x0)\n",
    "    dfnew = df(x0)\n",
    "    \n",
    "    xvec = sp.zeros((max_steps+1, x0.size))\n",
    "    xvec[0] = x0\n",
    "    for i in range(max_steps):\n",
    "        xold = xnew\n",
    "        fold = fnew\n",
    "        dfold = dfnew\n",
    "        \n",
    "        xnew = xold - alpha * dfold\n",
    "        fnew = f(xnew)\n",
    "        dfnew = df(xnew)\n",
    "        \n",
    "        # Store the steps\n",
    "        xvec[i+1] = xold\n",
    "        \n",
    "    return xvec\n",
    "    \n",
    "def my_qp(P, q, G, h, full_output=False):\n",
    "    \"Interface to cvxopt.solvers.qp with python.\"\n",
    "    _P = matrix(P)\n",
    "    _q = matrix(q)\n",
    "    _G = matrix(G)\n",
    "    _h = matrix(h)\n",
    "    sol = solvers.qp(_P, _q, _G, _h, abserr=1e-9)\n",
    "    out_x = (sol['x'])\n",
    "    if full_output:\n",
    "        return sol\n",
    "    else:\n",
    "        return sp.array(out_x).reshape(-1)\n",
    "    \n",
    "def update_hessian(H, s, y):\n",
    "    \"Return an updated hessian approximation\"\n",
    "    R1 = sp.outer(sp.dot(H, s), sp.dot(s, H)) / sp.dot(s, sp.dot(H, s))\n",
    "    R2 = sp.outer(y, y) / sp.dot(y, s)\n",
    "    return H - R1 + R2\n",
    "\n",
    "    \n",
    "def my_bfgs(x0, f=rosen, df=rosen_der, max_steps=20, gamma=1000, abstol=1e-9):\n",
    "    \"My coding of a BFGS method.\"\n",
    "    \n",
    "    # Define the starting quadratic problem\n",
    "    P0 = gamma * sp.eye(x0.size)\n",
    "    q0 = df(x0)\n",
    "    G = -sp.eye(x0.size)\n",
    "    h0 = x0    \n",
    "    s0 = my_qp(P0, q0, G, h0)\n",
    "    x1 = x0 + s0\n",
    "    q1 = df(x1)\n",
    "    y0 = q1-q0\n",
    "    P1 = update_hessian(P0, s0, y0)\n",
    "    \n",
    "    # Loop for several more local problems\n",
    "    xvec = sp.zeros((max_steps+2, x0.size))\n",
    "    xvec[(0, 1), :] = x0, x1\n",
    "    for i in range(max_steps):\n",
    "        x = x1\n",
    "        P = P1 \n",
    "        q = q1\n",
    "        h = x1\n",
    "        s = my_qp(P, q, G, h)\n",
    "        x1 = x + s\n",
    "        q1 = df(x1)\n",
    "        y = q1 - q\n",
    "        \n",
    "        P1 = update_hessian(P, s, y)\n",
    "        xvec[i+2] = x1\n",
    "        \n",
    "        diff = f(x1) - f(x)\n",
    "        if abs(diff) <= abstol:\n",
    "            xvec[i+3:] = x1\n",
    "            break\n",
    "    \n",
    "    return xvec\n",
    "    \n",
    "\n",
    "\n",
    "## Solve the problem\n",
    "xvec_descent = my_descent(x0, max_steps=30)\n",
    "xvec_bfgs = my_bfgs(x0, max_steps=30)\n",
    "\n",
    "xtrue_descent = sp.ones_like(xvec_descent)\n",
    "xtrue_bfgs = sp.ones_like(xvec_bfgs)\n",
    "\n",
    "err_descent = abs(xvec_descent - xtrue_descent).sum(1)\n",
    "err_bfgs = abs(xvec_bfgs - xtrue_bfgs).sum(1)\n",
    "\n",
    "\n",
    "\n"
   ]
  },
  {
   "cell_type": "code",
   "execution_count": 4,
   "metadata": {
    "collapsed": false
   },
   "outputs": [
    {
     "data": {
      "text/plain": [
       "[<matplotlib.lines.Line2D at 0x7f9655eb1890>]"
      ]
     },
     "execution_count": 4,
     "metadata": {},
     "output_type": "execute_result"
    },
    {
     "data": {
      "image/png": "[encoded data removed]",
      "text/plain": [
       "<matplotlib.figure.Figure at 0x7f967ae2ded0>"
      ]
     },
     "metadata": {},
     "output_type": "display_data"
    }
   ],
   "source": [
    "x = sp.linspace(.25, 2.75)\n",
    "y = sp.linspace(.25, 2.75)\n",
    "xx, yy = sp.meshgrid(x, y, indexing='ij')\n",
    "vals = rosen(sp.array([xx, yy]))\n",
    "levels = sp.linspace(0, 100, 20)\n",
    "\n",
    "fig = plt.figure(0, (10, 8))\n",
    "ax0 = fig.add_subplot(2,1,1)\n",
    "ax1 = fig.add_subplot(2,1,2)\n",
    "\n",
    "ax0.contourf(xx, yy, vals, levels, cmap='gray')\n",
    "ax0.plot(xvec_descent[:,0], xvec_descent[:,1], c='magenta', marker='.')\n",
    "ax0.plot(xvec_bfgs[::1,0], xvec_bfgs[::1,1], c='cyan', marker='.')\n",
    "\n",
    "ax1.semilogy(err_descent, color='magenta', linewidth=2.0)\n",
    "ax1.semilogy(err_bfgs, color='cyan', linewidth=2.0)\n"
   ]
  },
  {
   "cell_type": "code",
   "execution_count": 5,
   "metadata": {
    "collapsed": false,
    "scrolled": false
   },
   "outputs": [
    {
     "data": {
      "text/plain": [
       "array([[ 1.5       ,  1.5       ],\n",
       "       [ 1.049     ,  1.65      ],\n",
       "       [ 1.19850289,  1.57858801],\n",
       "       [ 1.26101722,  1.55419904],\n",
       "       [ 1.24746259,  1.55898915],\n",
       "       [ 1.24807025,  1.55857445],\n",
       "       [ 1.24803448,  1.55837042],\n",
       "       [ 1.24650814,  1.55301072],\n",
       "       [ 1.2427846 ,  1.54210775],\n",
       "       [ 1.23055831,  1.50893367],\n",
       "       [ 1.20795902,  1.4507143 ],\n",
       "       [ 1.17823857,  1.378107  ],\n",
       "       [ 1.13857477,  1.28749137],\n",
       "       [ 1.10313263,  1.21443982],\n",
       "       [ 1.05323347,  1.10437811],\n",
       "       [ 1.03517106,  1.07090524],\n",
       "       [ 1.00775196,  1.01394239],\n",
       "       [ 1.00496449,  1.00990463],\n",
       "       [ 1.00051404,  1.00099182],\n",
       "       [ 1.0000206 ,  1.00003918],\n",
       "       [ 1.00000034,  1.0000007 ],\n",
       "       [ 1.00000034,  1.0000007 ],\n",
       "       [ 1.00000034,  1.0000007 ],\n",
       "       [ 1.00000034,  1.0000007 ],\n",
       "       [ 1.00000034,  1.0000007 ],\n",
       "       [ 1.00000034,  1.0000007 ],\n",
       "       [ 1.00000034,  1.0000007 ],\n",
       "       [ 1.00000034,  1.0000007 ],\n",
       "       [ 1.00000034,  1.0000007 ],\n",
       "       [ 1.00000034,  1.0000007 ],\n",
       "       [ 1.00000034,  1.0000007 ],\n",
       "       [ 1.00000034,  1.0000007 ]])"
      ]
     },
     "execution_count": 5,
     "metadata": {},
     "output_type": "execute_result"
    }
   ],
   "source": [
    "xvec_bfgs\n"
   ]
  },
  {
   "cell_type": "code",
   "execution_count": null,
   "metadata": {
    "collapsed": false
   },
   "outputs": [],
   "source": []
  },
  {
   "cell_type": "code",
   "execution_count": 6,
   "metadata": {
    "collapsed": false
   },
   "outputs": [],
   "source": [
    "## Try it out on a large problem\n",
    "nx = 1000\n",
    "x0 = .75 + .5 * sp.rand(nx)\n",
    "\n",
    "xvec_bfgs = my_bfgs(x0, gamma=1000, max_steps=50)\n",
    "xvec_descent = my_descent(x0, alpha=1.0/1000, max_steps=50)\n",
    "xtrue = sp.ones(nx)"
   ]
  },
  {
   "cell_type": "code",
   "execution_count": 7,
   "metadata": {
    "collapsed": false
   },
   "outputs": [
    {
     "data": {
      "image/png": "[encoded data removed]",
      "text/plain": [
       "<matplotlib.figure.Figure at 0x7f9651a91c50>"
      ]
     },
     "metadata": {},
     "output_type": "display_data"
    }
   ],
   "source": [
    "err_bfgs = abs(xvec_bfgs - xtrue).sum(1)\n",
    "err_descent = abs(xvec_descent - xtrue).sum(1)\n",
    "fvals_bfgs = sp.array([rosen(_x) for _x in xvec_bfgs])\n",
    "fvals_descent = sp.array([rosen(_x) for _x in xvec_descent])\n",
    "\n",
    "\n",
    "fig = plt.figure(0, (8, 8))\n",
    "ax0 = fig.add_subplot(2,1,1)\n",
    "ax1 = fig.add_subplot(2,1,2)\n",
    "\n",
    "ax0.semilogy(err_bfgs, '-b', linewidth=3, label='bfgs')\n",
    "ax0.semilogy(err_descent, '-r', linewidth=3, label='descent')\n",
    "ax0.set_title('Error in x. Problem size, N = {0}'.format(nx))\n",
    "ax0.legend(loc='best')\n",
    "ax0.set_xbound(0, xvec_bfgs.shape[0])\n",
    "\n",
    "ax1.semilogy(fvals_bfgs, '-b', linewidth=3, label='bfgs')\n",
    "ax1.semilogy(fvals_descent, '-r', linewidth=3, label='descent')\n",
    "ax1.set_title('Cost function value. Problem size, N = {0}'.format(nx))\n",
    "ax1.legend(loc='best')\n",
    "ax1.set_xbound(0, xvec_bfgs.shape[0])\n",
    "\n"
   ]
  },
  {
   "cell_type": "code",
   "execution_count": null,
   "metadata": {
    "collapsed": true
   },
   "outputs": [],
   "source": []
  },
  {
   "cell_type": "code",
   "execution_count": null,
   "metadata": {
    "collapsed": true
   },
   "outputs": [],
   "source": []
  },
  {
   "cell_type": "code",
   "execution_count": null,
   "metadata": {
    "collapsed": true
   },
   "outputs": [],
   "source": []
  },
  {
   "cell_type": "code",
   "execution_count": null,
   "metadata": {
    "collapsed": true
   },
   "outputs": [],
   "source": []
  },
  {
   "cell_type": "code",
   "execution_count": null,
   "metadata": {
    "collapsed": true
   },
   "outputs": [],
   "source": []
  },
  {
   "cell_type": "code",
   "execution_count": null,
   "metadata": {
    "collapsed": true
   },
   "outputs": [],
   "source": []
  },
  {
   "cell_type": "code",
   "execution_count": null,
   "metadata": {
    "collapsed": true
   },
   "outputs": [],
   "source": []
  },
  {
   "cell_type": "code",
   "execution_count": null,
   "metadata": {
    "collapsed": true
   },
   "outputs": [],
   "source": []
  },
  {
   "cell_type": "code",
   "execution_count": null,
   "metadata": {
    "collapsed": true
   },
   "outputs": [],
   "source": []
  }
 ],
 "metadata": {
  "kernelspec": {
   "display_name": "Python 2",
   "language": "python",
   "name": "python2"
  },
  "language_info": {
   "codemirror_mode": {
    "name": "ipython",
    "version": 2
   },
   "file_extension": ".py",
   "mimetype": "text/x-python",
   "name": "python",
   "nbconvert_exporter": "python",
   "pygments_lexer": "ipython2",
   "version": "2.7.11"
  }
 },
 "nbformat": 4,
 "nbformat_minor": 0
}
