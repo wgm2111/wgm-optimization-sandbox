{
 "cells": [
  {
   "cell_type": "markdown",
   "metadata": {},
   "source": [
    "# Detecting outlyers with minimal volume ellipse\n",
    "\n",
    "\n",
    "\n"
   ]
  },
  {
   "cell_type": "code",
   "execution_count": 2,
   "metadata": {
    "collapsed": false
   },
   "outputs": [],
   "source": [
    "plot_inline = False\n",
    "if plot_inline:\n",
    "    %matplotlib inline\n",
    "\n",
    "# Future \n",
    "from __future__ import print_function\n",
    "\n",
    "# Numpy imports \n",
    "import numpy as np\n",
    "import numpy.random as random\n",
    "\n",
    "import scipy as sp\n",
    "import scipy.linalg as la\n",
    "\n",
    "\n",
    "\n",
    "# Convex optimization package: CVXOPT\n",
    "\n",
    "## Import the basic packages\n",
    "from cvxopt import matrix, solvers\n",
    "#solvers.options['show_progress'] = False\n",
    "\n",
    "## Import the CVXOPT version of LAPACK\n",
    "from cvxopt import blas, lapack, sqrt, mul, cos, sin, log\n",
    "\n",
    "# Import matplotlib.pyplot\n",
    "import matplotlib.pyplot as plt\n",
    "from mpl_toolkits.mplot3d import Axes3D\n",
    "\n",
    "\n",
    "EPS = sp.finfo(float).eps\n"
   ]
  },
  {
   "cell_type": "code",
   "execution_count": null,
   "metadata": {
    "collapsed": false
   },
   "outputs": [],
   "source": []
  },
  {
   "cell_type": "code",
   "execution_count": null,
   "metadata": {
    "collapsed": false
   },
   "outputs": [],
   "source": []
  },
  {
   "cell_type": "markdown",
   "metadata": {},
   "source": [
    "# 2D scatter plot example "
   ]
  },
  {
   "cell_type": "code",
   "execution_count": 3,
   "metadata": {
    "collapsed": false
   },
   "outputs": [],
   "source": [
    "# Generate random samples for testing the algorithm \n",
    "mean = np.array([5.0, 5.0, 5.0])\n",
    "cov = np.array([[3.0, 0.5, 0.8], \n",
    "                [0.5, 1.1, 0.8], \n",
    "                [0.8, 0.8, 1.0]])\n",
    "Nsamples = 10000\n",
    "samples = random.multivariate_normal(mean, cov, Nsamples)\n",
    "samples[:50] = random.laplace(5, scale =.0000001, size=(50, mean.size))\n",
    "#plt.plot(samples[:, 0], samples[:, 1], 'or', markersize=4)\n",
    "#plt.axis('equal')\n",
    "\n",
    "\n",
    "# Make a 3D figure\n",
    "if plot_inline:\n",
    "    fig = plt.figure(0)\n",
    "    fig.clear()\n",
    "    ax = fig.add_subplot(1,1,1, projection='3d')\n",
    "    ax.scatter(samples[:,0], \n",
    "               samples[:,1],\n",
    "               samples[:,2], marker='.')\n",
    "\n",
    "\n"
   ]
  },
  {
   "cell_type": "code",
   "execution_count": 4,
   "metadata": {
    "collapsed": false
   },
   "outputs": [
    {
     "name": "stdout",
     "output_type": "stream",
     "text": [
      "[[[ 1.  0.  0.]\n",
      "  [ 0.  0.  0.]\n",
      "  [ 0.  0.  0.]]\n",
      "\n",
      " [[ 0.  1.  0.]\n",
      "  [ 1.  0.  0.]\n",
      "  [ 0.  0.  0.]]\n",
      "\n",
      " [[ 0.  0.  0.]\n",
      "  [ 0.  1.  0.]\n",
      "  [ 0.  0.  0.]]\n",
      "\n",
      " [[ 0.  0.  1.]\n",
      "  [ 0.  0.  0.]\n",
      "  [ 1.  0.  0.]]\n",
      "\n",
      " [[ 0.  0.  0.]\n",
      "  [ 0.  0.  1.]\n",
      "  [ 0.  1.  0.]]\n",
      "\n",
      " [[ 0.  0.  0.]\n",
      "  [ 0.  0.  0.]\n",
      "  [ 0.  0.  1.]]\n",
      "\n",
      " [[ 0.  0.  0.]\n",
      "  [ 0.  0.  0.]\n",
      "  [ 0.  0.  0.]]\n",
      "\n",
      " [[ 0.  0.  0.]\n",
      "  [ 0.  0.  0.]\n",
      "  [ 0.  0.  0.]]\n",
      "\n",
      " [[ 0.  0.  0.]\n",
      "  [ 0.  0.  0.]\n",
      "  [ 0.  0.  0.]]]\n",
      "\n",
      "[[ 0.  0.  0.]\n",
      " [ 0.  0.  0.]\n",
      " [ 0.  0.  0.]\n",
      " [ 0.  0.  0.]\n",
      " [ 0.  0.  0.]\n",
      " [ 0.  0.  0.]\n",
      " [ 1.  0.  0.]\n",
      " [ 0.  1.  0.]\n",
      " [ 0.  0.  1.]]\n"
     ]
    },
    {
     "name": "stderr",
     "output_type": "stream",
     "text": [
      "/home/willm/anaconda2/lib/python2.7/site-packages/ipykernel/__main__.py:21: VisibleDeprecationWarning: using a non-integer number instead of an integer will result in an error in the future\n",
      "/home/willm/anaconda2/lib/python2.7/site-packages/ipykernel/__main__.py:34: VisibleDeprecationWarning: using a non-integer number instead of an integer will result in an error in the future\n"
     ]
    }
   ],
   "source": [
    "# Define function for various array calculations\n",
    "\n",
    "\n",
    "## What is the dimensionality \n",
    "ndim = samples.shape[-1]\n",
    "\n",
    "## ellipsoid free parameters\n",
    "Na = ndim + ndim * (ndim + 1) / 2.0\n",
    "\n",
    "\n",
    "## Parameterization of the ellipse as a single vector\n",
    "def get_DB(ndim, Na):\n",
    "    \"\"\"\n",
    "    Define the array Dnij so that, \n",
    "      Aij = SUM_n Dnij * an. \n",
    "      \n",
    "    Define the array Bni so that, \n",
    "      bi = SUM_n Bni * an.\n",
    "    \"\"\"\n",
    "    # Zero array of correct size\n",
    "    D = sp.zeros((Na, ndim, ndim))\n",
    "\n",
    "    # Loop over parameters for ellipse\n",
    "    n=0\n",
    "    for i in range(ndim):\n",
    "        for j in range(0, i+1):\n",
    "                        \n",
    "            D[n, i, j] = 1.0\n",
    "            D[n, j, i] = 1.0\n",
    "\n",
    "            n+=1\n",
    "\n",
    "    # initialize B\n",
    "    B = sp.zeros((Na, ndim))\n",
    "    B[-ndim:, :] = sp.eye(ndim)\n",
    "        \n",
    "    return D, B\n",
    "    \n",
    "    \n",
    "D, B = get_DB(ndim, Na)\n",
    "    \n",
    "    \n",
    " \n",
    "print(D, end='\\n\\n')\n",
    "print(B)"
   ]
  },
  {
   "cell_type": "code",
   "execution_count": 5,
   "metadata": {
    "collapsed": false
   },
   "outputs": [],
   "source": [
    "#D = sp.zeros((5, 2, 2), dtype=float)\n",
    "#D[2:] = sp.array([[[1, 0], \n",
    "#                   [0, 0]], \n",
    "#                  [[0, 1], \n",
    "#                   [1, 0]], \n",
    "#                  [[0, 0], \n",
    "#                   [0, 1]]])\n",
    "    \n",
    "#B = sp.zeros((5, 2), dtype=float)\n",
    "#B[:2] = sp.array([[1, 0], [0, 1]])\n",
    "#print(D, end='\\n\\n')\n",
    "#print(B)\n",
    "from scipy import special"
   ]
  },
  {
   "cell_type": "code",
   "execution_count": 6,
   "metadata": {
    "collapsed": true
   },
   "outputs": [],
   "source": [
    "\n",
    "## Functions\n",
    "def get_A(a):\n",
    "    return sp.tensordot(D, a, axes=[(0,), (0,)])\n",
    "def get_b(a):\n",
    "    return sp.tensordot(B, a, axes=[(0,), (0,)])\n",
    "\n",
    "## Cost function \n",
    "def get_f0(a):\n",
    "    \"Compute the objective function: -log(det(A(a))).\"\n",
    "    A = get_A(a)\n",
    "    #print(A)\n",
    "    Ainv = la.inv(A)\n",
    "    out = sp.log(la.det(Ainv))\n",
    "    return out #-1.0 * sp.log(la.det(A))\n",
    "    \n",
    "def grad_f0(a, D=D):\n",
    "    \"Compute the gradient of the objective function: -log(det(A(a))).\"\n",
    "    A = get_A(a)\n",
    "    Ainv = la.inv(A)\n",
    "    E = sp.dot(Ainv, D).transpose(1,0,2)\n",
    "    out = -sp.trace(E, axis1=1, axis2=2)\n",
    "    return out\n",
    "\n",
    "def hess_f0(a, D=D):\n",
    "    \"Compute the hessian of the objective function: -log(det(A(a))).\"\n",
    "    A = get_A(a)\n",
    "    Ainv = la.inv(A)\n",
    "    E = sp.dot(Ainv, D).transpose(1,0,2)\n",
    "    EE = sp.dot(E, E).trace(axis1=1, axis2=3)\n",
    "    H = (1.0 / 2.0) * (EE + EE.T)\n",
    "    return H\n",
    "     "
   ]
  },
  {
   "cell_type": "code",
   "execution_count": 7,
   "metadata": {
    "collapsed": false
   },
   "outputs": [
    {
     "name": "stdout",
     "output_type": "stream",
     "text": [
      "The objective value is f0: \n",
      "\t6.91503168795\n",
      "The gradient grad(f0) is :\n",
      "\t[-10.04784689   0.9569378  -10.04784689   0.9569378    0.9569378\n",
      " -10.04784689  -0.          -0.          -0.        ]\n",
      "\n",
      "\n",
      "Gradient error :   3.90813887179e-11\n",
      "Hessian error  :   1.03081178615e-07\n"
     ]
    }
   ],
   "source": [
    "## Check the derivative calculations    \n",
    "\n",
    "a0 = sp.array([.10, 0.005, 0.1, 0.005, 0.005, .1, .5, .5, 0.5])\n",
    "\n",
    "\n",
    "msg = \"The objective value is f0: \\n\\t{0}\\nThe gradient grad(f0) is :\\n\\t{1}\\n\\n\"\n",
    "print(msg.format(get_f0(a0), grad_f0(a0)))\n",
    "\n",
    "df0 = grad_f0(a0)\n",
    "h = 1e-7 * df0\n",
    "\n",
    "grad_diff = (get_f0(a0 + h) - get_f0(a0 - h))/(2 * la.norm(h))\n",
    "grad_func = la.norm(df0)\n",
    "hess_diff = (get_f0(a0 + h) - 2.0 * get_f0(a0) + get_f0(a0 - h)) / (la.norm(h))**2\n",
    "hess_func = sp.dot(h, sp.dot(hess_f0(a0), h)) / (la.norm(h)**2)\n",
    "\n",
    "\n",
    "msg = \"Gradient error :   {0}\"\n",
    "print(msg.format(abs(grad_diff - grad_func) / grad_diff))\n",
    "msg = \"Hessian error  :   {0}\"\n",
    "print(msg.format(abs(hess_diff - hess_func) / hess_diff))"
   ]
  },
  {
   "cell_type": "code",
   "execution_count": 8,
   "metadata": {
    "collapsed": true
   },
   "outputs": [],
   "source": [
    "# Define the constraint function\n",
    "\n",
    "## The constraint function \n",
    "def get_f1(a, x=samples, B=B, D=D):\n",
    "    \"Define the nth constraint function.\"\n",
    "    b = get_b(a)\n",
    "    A = get_A(a)\n",
    "    Ax = sp.dot(A, x.T)\n",
    "    val = ((b[:, None] + Ax[:, :])**2).sum(0) - 1.0\n",
    "    return val\n",
    "\n",
    "def grad_f1(a, x=samples, B=B, D=D):\n",
    "    \"Define the gradient for each convex inequality.\"\n",
    "    b = get_b(a)\n",
    "    A = get_A(a)\n",
    "    Ax = sp.dot(A, x.T)\n",
    "    vec0 = b[:, None] + Ax[:, :]                      #  in\n",
    "    vec1 = B[:, :, None] + sp.dot(D, x.T)[:, :, :]    # kin\n",
    "    vec_isum = 2.0 * (vec0[None, :, :] * vec1[:, :, :]).sum(1).transpose()\n",
    "    return vec_isum\n",
    "\n",
    "def hess_f1(a, x=samples, B=B, D=D):\n",
    "    \"Define the hessians for each convex inequality.\"\n",
    "    vec1 = B[:, :, None] + sp.dot(D, x.T)[:, :, :]    # kin -> nkk'\n",
    "    vec_kkn = 2.0 * (vec1[:, None, :, :] * vec1[None, :, :, :]).sum(2)\n",
    "    vec_nkk = vec_kkn.transpose(2,0,1)\n",
    "    return vec_nkk"
   ]
  },
  {
   "cell_type": "code",
   "execution_count": 9,
   "metadata": {
    "collapsed": false
   },
   "outputs": [
    {
     "name": "stdout",
     "output_type": "stream",
     "text": [
      "The objective value is f1: \n",
      "\t9.01559629518\n",
      "The gradient grad(f0) is :\n",
      "\t[-20.37037037   3.7037037  -20.37037037   3.7037037    3.7037037\n",
      " -20.37037037  -0.          -0.          -0.        ]\n",
      "\n",
      "\n",
      "Gradient error :   1.36957537793e-12\n",
      "Hessian error  :   2.24368710471e-07\n"
     ]
    }
   ],
   "source": [
    "## Check the derivative calculations    \n",
    "#a0 = sp.array([.10, .10, .050, 0.005, .050])\n",
    "\n",
    "a0 = sp.array([.05, 0.005, 0.05, 0.005, 0.005, 0.05, 0.1, 0.1, 0.1])\n",
    "\n",
    "msg = \"The objective value is f1: \\n\\t{0}\\nThe gradient grad(f0) is :\\n\\t{1}\\n\\n\"\n",
    "print(msg.format(get_f0(a0), grad_f0(a0)))\n",
    "\n",
    "f10 = lambda a: get_f1(a)[0]\n",
    "grad_f10 = lambda a: grad_f1(a)[0]\n",
    "hess_f10 = lambda a: hess_f1(a)[0]\n",
    "\n",
    "df0 = grad_f10(a0)\n",
    "h = 1e-7 * df0\n",
    "\n",
    "grad_diff = (f10(a0 + h) - f10(a0 - h))/(2 * la.norm(h))\n",
    "grad_func = la.norm(df0)\n",
    "hess_diff = (f10(a0 + h) - 2.0 * f10(a0) + f10(a0 - h)) / (la.norm(h))**2\n",
    "hess_func = sp.dot(h, sp.dot(hess_f10(a0), h)) / (la.norm(h)**2)\n",
    "\n",
    "\n",
    "msg = \"Gradient error :   {0}\"\n",
    "print(msg.format(abs(grad_diff - grad_func) / grad_diff))\n",
    "msg = \"Hessian error  :   {0}\"\n",
    "print(msg.format(abs(hess_diff - hess_func) / hess_diff))"
   ]
  },
  {
   "cell_type": "markdown",
   "metadata": {},
   "source": [
    "## Define the interface function for CVXOPT"
   ]
  },
  {
   "cell_type": "code",
   "execution_count": 10,
   "metadata": {
    "collapsed": true
   },
   "outputs": [],
   "source": [
    "# Loewner-John ellipsoid\n",
    "#\n",
    "# minimize     log det A^-1\n",
    "# subject to   || A(a) x_n + b(a) ||_2^2  - 1.0 <= 0  for  n=1,...,m\n",
    "#\n",
    "# 5 variables a = [b0, b1, A00, A01, A11]\n",
    "\n",
    "def F(a=None, z=None, a0=a0, x=samples, B=B, D=D):\n",
    "    \n",
    "    # Convert input to numpy arrays\n",
    "    n = a0.size\n",
    "    m = x.shape[0]\n",
    "    \n",
    "    ## Handle the case for determining the initial value\n",
    "    if a is not None:\n",
    "        a = sp.array(a).reshape(n)\n",
    "    else:\n",
    "        return m, matrix(a0)\n",
    "    \n",
    "    \n",
    "    ## Calculations \n",
    "    if z is not None: \n",
    "        z = sp.array(z).reshape(m + 1)\n",
    "        \n",
    "        ## Compute the full outputHessian\n",
    "        fout = sp.zeros([m+1])\n",
    "        dfout = sp.zeros([m+1, n])\n",
    "        ddfout = sp.zeros([n, n])\n",
    "\n",
    "        fout[0] = get_f0(a)\n",
    "        dfout[0] = grad_f0(a)\n",
    "        ddfout[:, :] += z[0] * hess_f0(a)\n",
    "        \n",
    "        fout[1:] = get_f1(a)\n",
    "        dfout[1:, :] = grad_f1(a)\n",
    "        ddfout[:, :] += (z[1:, None, None] * hess_f1(a)).sum(0)\n",
    "         \n",
    "        # Return the full output\n",
    "        return (matrix(fout.reshape(m+1, 1)), \n",
    "                matrix(dfout), \n",
    "                matrix(ddfout))\n",
    "    \n",
    "    else:\n",
    "        \n",
    "        # Check the domain\n",
    "        A = get_A(a)\n",
    "        lams = la.eigvalsh(A)\n",
    "        if lams.min() <= -10 * EPS:\n",
    "            return (None, None)\n",
    "        \n",
    "        ## Compute partial output without hessian\n",
    "        fout = sp.zeros([m+1])\n",
    "        dfout = sp.zeros([m+1, n])\n",
    "\n",
    "        fout[0] = get_f0(a)\n",
    "        dfout[0] = grad_f0(a)\n",
    "        \n",
    "        fout[1:] = get_f1(a)\n",
    "        dfout[1:, :] = grad_f1(a)\n",
    "\n",
    "        return (matrix(fout.reshape(m+1, 1)), \n",
    "                matrix(dfout))\n",
    "  \n"
   ]
  },
  {
   "cell_type": "code",
   "execution_count": null,
   "metadata": {
    "collapsed": false
   },
   "outputs": [],
   "source": []
  },
  {
   "cell_type": "code",
   "execution_count": null,
   "metadata": {
    "collapsed": true
   },
   "outputs": [],
   "source": []
  },
  {
   "cell_type": "code",
   "execution_count": null,
   "metadata": {
    "collapsed": true
   },
   "outputs": [],
   "source": []
  },
  {
   "cell_type": "code",
   "execution_count": null,
   "metadata": {
    "collapsed": false
   },
   "outputs": [],
   "source": []
  },
  {
   "cell_type": "markdown",
   "metadata": {},
   "source": [
    "## Solve for the minimum volume ellipsoid containing all the points\n"
   ]
  },
  {
   "cell_type": "code",
   "execution_count": 11,
   "metadata": {
    "collapsed": false,
    "scrolled": false
   },
   "outputs": [
    {
     "name": "stdout",
     "output_type": "stream",
     "text": [
      "     pcost       dcost       gap    pres   dres\n",
      " 0:  0.0000e+00 -5.0335e+03  1e+04  1e+00  1e+00\n",
      " 1:  9.8297e+00 -1.7788e+03  2e+03  8e-02  2e-01\n",
      " 2:  9.7613e+00 -5.6505e+01  7e+01  2e-03  8e-03\n",
      " 3:  7.8460e+00  2.3987e+00  6e+00  1e-02  7e-04\n",
      " 4:  5.8845e+00  5.8636e+00  7e-01  3e-02  9e-05\n",
      " 5:  5.2639e+00  5.2722e+00  6e-01  5e-02  7e-05\n",
      " 6:  5.0320e+00  5.0070e+00  6e-01  5e-02  6e-05\n",
      " 7:  3.9461e+00  4.1088e+00  4e-01  2e-01  4e-05\n",
      " 8:  3.9335e+00  4.0918e+00  4e-01  2e-01  4e-05\n",
      " 9:  3.8894e+00  4.0322e+00  4e-01  2e-01  4e-05\n",
      "10:  3.8879e+00  4.0298e+00  4e-01  2e-01  4e-05\n",
      "11:  3.8826e+00  4.0207e+00  4e-01  2e-01  4e-05\n",
      "12:  7.3556e+00  3.1556e+00  5e+00  1e-02  5e-04\n",
      "13:  7.2027e+00  3.0671e+00  5e+00  1e-02  5e-04\n",
      "14:  7.0506e+00  2.9722e+00  4e+00  1e-02  5e-04\n",
      "15:  6.9754e+00  2.9202e+00  4e+00  1e-02  5e-04\n",
      "16:  6.9008e+00  2.8672e+00  4e+00  1e-02  4e-04\n",
      "17:  6.8292e+00  2.8150e+00  4e+00  1e-02  4e-04\n",
      "18:  6.7110e+00  2.7683e+00  4e+00  1e-02  4e-04\n",
      "19:  6.6042e+00  2.7195e+00  4e+00  1e-02  4e-04\n",
      "20:  6.5073e+00  2.6701e+00  4e+00  9e-03  4e-04\n",
      "21:  6.4190e+00  2.6212e+00  4e+00  9e-03  4e-04\n",
      "22:  6.3381e+00  2.5734e+00  4e+00  9e-03  3e-04\n",
      "23:  6.2637e+00  2.5270e+00  4e+00  9e-03  3e-04\n",
      "24:  6.1949e+00  2.4822e+00  4e+00  9e-03  3e-04\n",
      "25:  6.1312e+00  2.4390e+00  4e+00  9e-03  3e-04\n",
      "26:  6.0720e+00  2.3976e+00  4e+00  9e-03  3e-04\n",
      "27:  6.0166e+00  2.3578e+00  4e+00  9e-03  3e-04\n",
      "28:  5.9648e+00  2.3197e+00  4e+00  9e-03  3e-04\n",
      "29:  5.9161e+00  2.2832e+00  4e+00  9e-03  3e-04\n",
      "30:  5.8701e+00  2.2481e+00  4e+00  9e-03  3e-04\n",
      "31:  5.8266e+00  2.2144e+00  4e+00  9e-03  3e-04\n",
      "32:  5.7853e+00  2.1819e+00  4e+00  8e-03  3e-04\n",
      "33:  5.7459e+00  2.1507e+00  4e+00  8e-03  3e-04\n",
      "34:  5.6706e+00  2.0914e+00  4e+00  8e-03  2e-04\n",
      "35:  5.6012e+00  2.0360e+00  4e+00  8e-03  2e-04\n",
      "36:  5.5364e+00  1.9836e+00  4e+00  8e-03  2e-04\n",
      "37:  5.4749e+00  1.9338e+00  4e+00  8e-03  2e-04\n",
      "38:  5.4155e+00  1.8859e+00  4e+00  8e-03  2e-04\n",
      "39:  5.3574e+00  1.8394e+00  4e+00  8e-03  2e-04\n",
      "40:  5.2997e+00  1.7939e+00  4e+00  8e-03  2e-04\n",
      "41:  5.2417e+00  1.7493e+00  4e+00  8e-03  2e-04\n",
      "42:  5.1826e+00  1.7052e+00  4e+00  8e-03  2e-04\n",
      "43:  5.1221e+00  1.6618e+00  4e+00  8e-03  2e-04\n",
      "44:  5.0594e+00  1.6193e+00  4e+00  8e-03  2e-04\n",
      "45:  4.9945e+00  1.5780e+00  4e+00  8e-03  2e-04\n",
      "46:  4.9269e+00  1.5386e+00  4e+00  8e-03  1e-04\n",
      "47:  4.8594e+00  1.5033e+00  3e+00  8e-03  1e-04\n",
      "48:  4.8034e+00  1.4777e+00  3e+00  8e-03  1e-04\n",
      "49:  4.7562e+00  1.4551e+00  3e+00  7e-03  1e-04\n",
      "50:  4.6760e+00  1.4144e+00  3e+00  7e-03  1e-04\n",
      "51:  4.6180e+00  1.3793e+00  3e+00  7e-03  1e-04\n",
      "52:  4.5330e+00  1.3545e+00  3e+00  7e-03  1e-04\n",
      "53:  4.4453e+00  1.3502e+00  3e+00  7e-03  8e-05\n",
      "54:  4.4060e+00  1.3212e+00  3e+00  7e-03  8e-05\n",
      "55:  4.3578e+00  1.3482e+00  3e+00  6e-03  7e-05\n",
      "56:  4.3138e+00  1.4021e+00  3e+00  6e-03  5e-05\n",
      "57:  4.2908e+00  1.4409e+00  3e+00  6e-03  3e-05\n",
      "58:  4.3012e+00  1.5414e+00  3e+00  2e-03  8e-06\n",
      "59:  4.2915e+00  1.8802e+00  2e+00  2e-03  5e-06\n",
      "60:  4.2855e+00  2.3308e+00  2e+00  9e-04  2e-06\n",
      "61:  4.2834e+00  2.6520e+00  2e+00  6e-04  2e-06\n",
      "62:  4.2802e+00  3.2782e+00  1e+00  3e-04  1e-06\n",
      "63:  4.2820e+00  3.4790e+00  8e-01  2e-05  6e-08\n",
      "64:  4.2805e+00  3.8680e+00  4e-01  3e-05  1e-07\n",
      "65:  4.2803e+00  4.0911e+00  2e-01  1e-05  5e-08\n",
      "66:  4.2802e+00  4.2092e+00  7e-02  7e-06  3e-08\n",
      "67:  4.2801e+00  4.2760e+00  4e-03  7e-08  3e-10\n",
      "68:  4.2801e+00  4.2800e+00  1e-04  2e-09  1e-11\n",
      "69:  4.2801e+00  4.2801e+00  1e-06  2e-11  1e-13\n",
      "Optimal solution found.\n",
      "(3, 3)\n",
      "(3, 3)\n",
      "(3,)\n"
     ]
    }
   ],
   "source": [
    "sol = solvers.cp(F)\n",
    "solx = np.array(sol['x']).flatten()\n",
    "#print(solx)\n",
    "b = get_b(solx)\n",
    "A = get_A(solx)\n",
    "\n",
    "Ainv = la.inv(A)\n",
    "\n",
    "print(A.shape)\n",
    "print(Ainv.shape)\n",
    "print(b.shape)"
   ]
  },
  {
   "cell_type": "markdown",
   "metadata": {},
   "source": [
    "# Make a plot showing min. vol ellipsoid"
   ]
  },
  {
   "cell_type": "code",
   "execution_count": 12,
   "metadata": {
    "collapsed": false
   },
   "outputs": [
    {
     "name": "stdout",
     "output_type": "stream",
     "text": [
      "(3, 20, 20)\n"
     ]
    }
   ],
   "source": [
    "## Get points on a sphere\n",
    "thetas = sp.linspace(100*EPS, (1.0-100*EPS) * sp.pi, 20)\n",
    "phis = sp.linspace(0.0, 2*sp.pi, 20)\n",
    "\n",
    "TT, PP = sp.meshgrid(thetas, phis, indexing='ij')\n",
    "\n",
    "xx = sp.cos(PP) * sp.sin(TT)\n",
    "yy = sp.sin(PP) * sp.sin(TT)\n",
    "zz = sp.cos(TT)\n",
    "\n",
    "\n",
    "Ainv_xx = Ainv[:,0, None, None] * (xx - b[None, None, 0])\n",
    "Ainv_yy = Ainv[:,1, None, None] * (yy - b[None, None, 1])\n",
    "Ainv_zz = Ainv[:,2, None, None] * (zz - b[None, None, 2])\n",
    "\n",
    "xyz_ellipse = Ainv_xx + Ainv_yy + Ainv_zz\n",
    "xe = xyz_ellipse[0]\n",
    "ye = xyz_ellipse[1]\n",
    "ze = xyz_ellipse[2]\n",
    "\n",
    "print(Ainv_xx.shape)\n",
    "\n",
    "\n"
   ]
  },
  {
   "cell_type": "markdown",
   "metadata": {},
   "source": [
    "# Determine candidats for removal"
   ]
  },
  {
   "cell_type": "code",
   "execution_count": 13,
   "metadata": {
    "collapsed": false
   },
   "outputs": [],
   "source": [
    "def xinxout(x, A=A, b=b):\n",
    "    \"Define the signed distance to the boundary.\"\n",
    "    v = sp.dot(A, x.T) + b[:, None]\n",
    "    Iin = la.norm(v, axis=0) <  (1 - 100 * sp.sqrt(EPS))\n",
    "    Iout = la.norm(v, axis=0) >=  (1 - 100 * sp.sqrt(EPS))\n",
    "\n",
    "    xin = x[Iin, :]\n",
    "    xout = x[Iout, :]\n",
    "    return xin, xout\n",
    "\n",
    "xin, xout = xinxout(samples)"
   ]
  },
  {
   "cell_type": "code",
   "execution_count": 16,
   "metadata": {
    "collapsed": false
   },
   "outputs": [],
   "source": [
    "\n",
    "fig = plt.figure(1, figsize=(8,8))\n",
    "fig.clear()\n",
    "ax = fig.add_subplot(1,1,1,projection='3d')\n",
    "\n",
    "ax.plot_wireframe(xe, ye, ze, linewidth=0.1)\n",
    "\n",
    "\n",
    "ax.scatter(xin[:,0], xin[:,1], xin[:,2], c='b', marker='.', linewidth=0.1)\n",
    "ax.scatter(xout[:,0], xout[:,1], xout[:,2], marker='o', c='r')\n",
    "\n",
    "\n",
    "\n",
    "fig.show()"
   ]
  },
  {
   "cell_type": "code",
   "execution_count": 17,
   "metadata": {
    "collapsed": true
   },
   "outputs": [],
   "source": [
    "#plt.show()"
   ]
  },
  {
   "cell_type": "code",
   "execution_count": null,
   "metadata": {
    "collapsed": false
   },
   "outputs": [],
   "source": []
  },
  {
   "cell_type": "code",
   "execution_count": null,
   "metadata": {
    "collapsed": false
   },
   "outputs": [],
   "source": []
  },
  {
   "cell_type": "code",
   "execution_count": null,
   "metadata": {
    "collapsed": false
   },
   "outputs": [],
   "source": []
  },
  {
   "cell_type": "code",
   "execution_count": null,
   "metadata": {
    "collapsed": true
   },
   "outputs": [],
   "source": []
  },
  {
   "cell_type": "code",
   "execution_count": null,
   "metadata": {
    "collapsed": true
   },
   "outputs": [],
   "source": []
  },
  {
   "cell_type": "code",
   "execution_count": null,
   "metadata": {
    "collapsed": true
   },
   "outputs": [],
   "source": []
  },
  {
   "cell_type": "code",
   "execution_count": null,
   "metadata": {
    "collapsed": true
   },
   "outputs": [],
   "source": []
  },
  {
   "cell_type": "code",
   "execution_count": null,
   "metadata": {
    "collapsed": true
   },
   "outputs": [],
   "source": []
  },
  {
   "cell_type": "code",
   "execution_count": null,
   "metadata": {
    "collapsed": true
   },
   "outputs": [],
   "source": []
  },
  {
   "cell_type": "code",
   "execution_count": null,
   "metadata": {
    "collapsed": true
   },
   "outputs": [],
   "source": []
  },
  {
   "cell_type": "code",
   "execution_count": null,
   "metadata": {
    "collapsed": true
   },
   "outputs": [],
   "source": []
  },
  {
   "cell_type": "code",
   "execution_count": null,
   "metadata": {
    "collapsed": true
   },
   "outputs": [],
   "source": []
  },
  {
   "cell_type": "code",
   "execution_count": null,
   "metadata": {
    "collapsed": true
   },
   "outputs": [],
   "source": []
  },
  {
   "cell_type": "code",
   "execution_count": null,
   "metadata": {
    "collapsed": true
   },
   "outputs": [],
   "source": []
  },
  {
   "cell_type": "code",
   "execution_count": null,
   "metadata": {
    "collapsed": true
   },
   "outputs": [],
   "source": []
  },
  {
   "cell_type": "code",
   "execution_count": null,
   "metadata": {
    "collapsed": true
   },
   "outputs": [],
   "source": []
  },
  {
   "cell_type": "code",
   "execution_count": null,
   "metadata": {
    "collapsed": true
   },
   "outputs": [],
   "source": []
  },
  {
   "cell_type": "code",
   "execution_count": null,
   "metadata": {
    "collapsed": true
   },
   "outputs": [],
   "source": []
  },
  {
   "cell_type": "code",
   "execution_count": null,
   "metadata": {
    "collapsed": true
   },
   "outputs": [],
   "source": []
  },
  {
   "cell_type": "code",
   "execution_count": null,
   "metadata": {
    "collapsed": true
   },
   "outputs": [],
   "source": []
  },
  {
   "cell_type": "code",
   "execution_count": null,
   "metadata": {
    "collapsed": true
   },
   "outputs": [],
   "source": []
  },
  {
   "cell_type": "code",
   "execution_count": null,
   "metadata": {
    "collapsed": true
   },
   "outputs": [],
   "source": []
  },
  {
   "cell_type": "code",
   "execution_count": null,
   "metadata": {
    "collapsed": true
   },
   "outputs": [],
   "source": []
  },
  {
   "cell_type": "code",
   "execution_count": null,
   "metadata": {
    "collapsed": true
   },
   "outputs": [],
   "source": []
  },
  {
   "cell_type": "code",
   "execution_count": null,
   "metadata": {
    "collapsed": true
   },
   "outputs": [],
   "source": []
  }
 ],
 "metadata": {
  "kernelspec": {
   "display_name": "Python 2",
   "language": "python",
   "name": "python2"
  },
  "language_info": {
   "codemirror_mode": {
    "name": "ipython",
    "version": 2
   },
   "file_extension": ".py",
   "mimetype": "text/x-python",
   "name": "python",
   "nbconvert_exporter": "python",
   "pygments_lexer": "ipython2",
   "version": "2.7.11"
  }
 },
 "nbformat": 4,
 "nbformat_minor": 0
}
