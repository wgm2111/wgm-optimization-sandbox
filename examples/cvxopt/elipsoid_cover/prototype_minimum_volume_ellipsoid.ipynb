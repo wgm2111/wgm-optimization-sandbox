{
 "cells": [
  {
   "cell_type": "markdown",
   "metadata": {},
   "source": [
    "# Detecting outlyers with minimal volume ellipse\n",
    "\n",
    "\n",
    "\n"
   ]
  },
  {
   "cell_type": "code",
   "execution_count": 41,
   "metadata": {
    "collapsed": false
   },
   "outputs": [],
   "source": [
    "%matplotlib inline\n",
    "\n",
    "# Future \n",
    "from __future__ import print_function\n",
    "\n",
    "# Numpy imports \n",
    "import numpy as np\n",
    "import numpy.random as random\n",
    "\n",
    "import scipy as sp\n",
    "import scipy.linalg as la\n",
    "\n",
    "\n",
    "# Convex optimization package: CVXOPT\n",
    "\n",
    "## Import the basic packages\n",
    "from cvxopt import matrix, solvers\n",
    "solvers.options['show_progress'] = False\n",
    "\n",
    "## Import the CVXOPT version of LAPACK\n",
    "from cvxopt import blas, lapack, sqrt, mul, cos, sin, log\n",
    "\n",
    "# Import matplotlib.pyplot\n",
    "import matplotlib.pyplot as plt\n",
    "\n",
    "\n",
    "\n",
    "EPS = sp.finfo(float).eps\n"
   ]
  },
  {
   "cell_type": "markdown",
   "metadata": {},
   "source": [
    "# 2D scatter plot example "
   ]
  },
  {
   "cell_type": "code",
   "execution_count": 42,
   "metadata": {
    "collapsed": false
   },
   "outputs": [
    {
     "data": {
      "text/plain": [
       "(-2.0, 10.0, 2.0, 9.0)"
      ]
     },
     "execution_count": 42,
     "metadata": {},
     "output_type": "execute_result"
    },
    {
     "data": {
      "image/png": "[encoded data removed]",
      "text/plain": [
       "<matplotlib.figure.Figure at 0x7f21ea67af50>"
      ]
     },
     "metadata": {},
     "output_type": "display_data"
    }
   ],
   "source": [
    "# Generate random samples for testing the algorithm \n",
    "mean = np.array([5.0, 5.0])\n",
    "cov = np.array([[2.0, 0.9], \n",
    "                [0.9, 1.0]])\n",
    "Nsamples = 500\n",
    "samples = random.multivariate_normal(mean, cov, Nsamples)\n",
    "samples[:50] = random.laplace(5, scale =.0000001, size=(50, 2))\n",
    "plt.plot(samples[:, 0], samples[:, 1], 'or', markersize=4)\n",
    "plt.axis('equal')\n",
    "\n",
    "\n",
    "\n"
   ]
  },
  {
   "cell_type": "code",
   "execution_count": 43,
   "metadata": {
    "collapsed": true
   },
   "outputs": [],
   "source": [
    "# Define function for various array calculations\n",
    "\n",
    "## Parameterization of the ellipse as a single vector\n",
    "D = sp.zeros((5, 2, 2), dtype=float)\n",
    "D[2:] = sp.array([[[1, 0], \n",
    "                   [0, 0]], \n",
    "                  [[0, 1], \n",
    "                   [1, 0]], \n",
    "                  [[0, 0], \n",
    "                   [0, 1]]])\n",
    "                \n",
    "B = sp.zeros((5, 2), dtype=float)\n",
    "B[:2] = sp.array([[1, 0], [0, 1]])\n",
    "#print(D, end='\\n\\n')\n",
    "#print(B)\n",
    "    \n",
    "## Functions\n",
    "def get_A(a):\n",
    "    return sp.tensordot(D, a, axes=[(0,), (0,)])\n",
    "def get_b(a):\n",
    "    return sp.tensordot(B, a, axes=[(0,), (0,)])\n",
    "\n",
    "## Cost function \n",
    "def get_f0(a):\n",
    "    \"Compute the objective function: -log(det(A(a))).\"\n",
    "    A = get_A(a)\n",
    "    return -1.0 * sp.log(la.det(A))\n",
    "    \n",
    "def grad_f0(a, D=D):\n",
    "    \"Compute the gradient of the objective function: -log(det(A(a))).\"\n",
    "    A = get_A(a)\n",
    "    Ainv = la.inv(A)\n",
    "    E = sp.dot(Ainv, D).transpose(1,0,2)\n",
    "    out = -sp.trace(E, axis1=1, axis2=2)\n",
    "    return out\n",
    "\n",
    "def hess_f0(a, D=D):\n",
    "    \"Compute the hessian of the objective function: -log(det(A(a))).\"\n",
    "    A = get_A(a)\n",
    "    Ainv = la.inv(A)\n",
    "    E = sp.dot(Ainv, D).transpose(1,0,2)\n",
    "    EE = sp.dot(E, E).trace(axis1=1, axis2=3)\n",
    "    H = (1.0 / 2.0) * (EE + EE.T)\n",
    "    return H\n",
    "     "
   ]
  },
  {
   "cell_type": "code",
   "execution_count": 44,
   "metadata": {
    "collapsed": false
   },
   "outputs": [
    {
     "name": "stdout",
     "output_type": "stream",
     "text": [
      "The objective value is f0: \n",
      "\t6.00151488296\n",
      "The gradient grad(f0) is :\n",
      "\t[ -0.          -0.         -20.2020202    4.04040404 -20.2020202 ]\n",
      "\n",
      "\n",
      "Gradient error :   7.28400429043e-10\n",
      "Hessian error  :   3.8241376524e-07\n"
     ]
    }
   ],
   "source": [
    "## Check the derivative calculations    \n",
    "a0 = sp.array([.10, .10, .050, 0.005, .050])\n",
    "\n",
    "msg = \"The objective value is f0: \\n\\t{0}\\nThe gradient grad(f0) is :\\n\\t{1}\\n\\n\"\n",
    "print(msg.format(get_f0(a0), grad_f0(a0)))\n",
    "\n",
    "df0 = grad_f0(a0)\n",
    "h = 1e-7 * df0\n",
    "\n",
    "grad_diff = (get_f0(a0 + h) - get_f0(a0 - h))/(2 * la.norm(h))\n",
    "grad_func = la.norm(df0)\n",
    "hess_diff = (get_f0(a0 + h) - 2.0 * get_f0(a0) + get_f0(a0 - h)) / (la.norm(h))**2\n",
    "hess_func = sp.dot(h, sp.dot(hess_f0(a0), h)) / (la.norm(h)**2)\n",
    "\n",
    "\n",
    "msg = \"Gradient error :   {0}\"\n",
    "print(msg.format(abs(grad_diff - grad_func) / grad_diff))\n",
    "msg = \"Hessian error  :   {0}\"\n",
    "print(msg.format(abs(hess_diff - hess_func) / hess_diff))"
   ]
  },
  {
   "cell_type": "code",
   "execution_count": 45,
   "metadata": {
    "collapsed": true
   },
   "outputs": [],
   "source": [
    "# Define the constraint function\n",
    "\n",
    "## The constraint function \n",
    "def get_f1(a, x=samples, B=B, D=D):\n",
    "    \"Define the nth constraint function.\"\n",
    "    b = get_b(a)\n",
    "    A = get_A(a)\n",
    "    Ax = sp.dot(A, x.T)\n",
    "    val = ((b[:, None] + Ax[:, :])**2).sum(0) - 1.0\n",
    "    return val\n",
    "\n",
    "def grad_f1(a, x=samples, B=B, D=D):\n",
    "    \"Define the gradient for each convex inequality.\"\n",
    "    b = get_b(a)\n",
    "    A = get_A(a)\n",
    "    Ax = sp.dot(A, x.T)\n",
    "    vec0 = b[:, None] + Ax[:, :]                      #  in\n",
    "    vec1 = B[:, :, None] + sp.dot(D, x.T)[:, :, :]    # kin\n",
    "    vec_isum = 2.0 * (vec0[None, :, :] * vec1[:, :, :]).sum(1).transpose()\n",
    "    return vec_isum\n",
    "\n",
    "def hess_f1(a, x=samples, B=B, D=D):\n",
    "    \"Define the hessians for each convex inequality.\"\n",
    "    vec1 = B[:, :, None] + sp.dot(D, x.T)[:, :, :]    # kin -> nkk'\n",
    "    vec_kkn = 2.0 * (vec1[:, None, :, :] * vec1[None, :, :, :]).sum(2)\n",
    "    vec_nkk = vec_kkn.transpose(2,0,1)\n",
    "    return vec_nkk"
   ]
  },
  {
   "cell_type": "code",
   "execution_count": 46,
   "metadata": {
    "collapsed": false
   },
   "outputs": [
    {
     "name": "stdout",
     "output_type": "stream",
     "text": [
      "The objective value is f1: \n",
      "\t6.00151488296\n",
      "The gradient grad(f0) is :\n",
      "\t[ -0.          -0.         -20.2020202    4.04040404 -20.2020202 ]\n",
      "\n",
      "\n",
      "Gradient error :   6.3722472113e-12\n",
      "Hessian error  :   1.10544301767e-06\n"
     ]
    }
   ],
   "source": [
    "## Check the derivative calculations    \n",
    "a0 = sp.array([.10, .10, .050, 0.005, .050])\n",
    "\n",
    "msg = \"The objective value is f1: \\n\\t{0}\\nThe gradient grad(f0) is :\\n\\t{1}\\n\\n\"\n",
    "print(msg.format(get_f0(a0), grad_f0(a0)))\n",
    "\n",
    "f10 = lambda a: get_f1(a)[0]\n",
    "grad_f10 = lambda a: grad_f1(a)[0]\n",
    "hess_f10 = lambda a: hess_f1(a)[0]\n",
    "\n",
    "df0 = grad_f10(a0)\n",
    "h = 1e-7 * df0\n",
    "\n",
    "grad_diff = (f10(a0 + h) - f10(a0 - h))/(2 * la.norm(h))\n",
    "grad_func = la.norm(df0)\n",
    "hess_diff = (f10(a0 + h) - 2.0 * f10(a0) + f10(a0 - h)) / (la.norm(h))**2\n",
    "hess_func = sp.dot(h, sp.dot(hess_f10(a0), h)) / (la.norm(h)**2)\n",
    "\n",
    "\n",
    "msg = \"Gradient error :   {0}\"\n",
    "print(msg.format(abs(grad_diff - grad_func) / grad_diff))\n",
    "msg = \"Hessian error  :   {0}\"\n",
    "print(msg.format(abs(hess_diff - hess_func) / hess_diff))"
   ]
  },
  {
   "cell_type": "markdown",
   "metadata": {},
   "source": [
    "## Define the interface function for CVXOPT"
   ]
  },
  {
   "cell_type": "code",
   "execution_count": 47,
   "metadata": {
    "collapsed": true
   },
   "outputs": [],
   "source": [
    "# Loewner-John ellipsoid\n",
    "#\n",
    "# minimize     log det A^-1\n",
    "# subject to   || A(a) x_n + b(a) ||_2^2  - 1.0 <= 0  for  n=1,...,m\n",
    "#\n",
    "# 5 variables a = [b0, b1, A00, A01, A11]\n",
    "\n",
    "def F(a=None, z=None, a0=a0, x=samples, B=B, D=D):\n",
    "    \n",
    "    # Convert input to numpy arrays\n",
    "    n = a0.size\n",
    "    m = x.shape[0]\n",
    "    \n",
    "    ## Handle the case for determining the initial value\n",
    "    if a is not None:\n",
    "        a = sp.array(a).reshape(n)\n",
    "    else:\n",
    "        return m, matrix(a0)\n",
    "    \n",
    "    \n",
    "    ## Calculations \n",
    "    if z is not None: \n",
    "        z = sp.array(z).reshape(m + 1)\n",
    "        \n",
    "        ## Compute the full outputHessian\n",
    "        fout = sp.zeros([m+1])\n",
    "        dfout = sp.zeros([m+1, n])\n",
    "        ddfout = sp.zeros([n, n])\n",
    "\n",
    "        fout[0] = get_f0(a)\n",
    "        dfout[0] = grad_f0(a)\n",
    "        ddfout[:, :] += z[0] * hess_f0(a)\n",
    "        \n",
    "        fout[1:] = get_f1(a)\n",
    "        dfout[1:, :] = grad_f1(a)\n",
    "        ddfout[:, :] += (z[1:, None, None] * hess_f1(a)).sum(0)\n",
    "         \n",
    "        # Return the full output\n",
    "        return (matrix(fout.reshape(m+1, 1)), \n",
    "                matrix(dfout), \n",
    "                matrix(ddfout))\n",
    "    \n",
    "    else:\n",
    "        \n",
    "        # Check the domain\n",
    "        A = get_A(a)\n",
    "        lams = la.eigvalsh(A)\n",
    "        if lams.min() <= -10 * EPS:\n",
    "            return (None, None)\n",
    "        \n",
    "        ## Compute partial output without hessian\n",
    "        fout = sp.zeros([m+1])\n",
    "        dfout = sp.zeros([m+1, n])\n",
    "\n",
    "        fout[0] = get_f0(a)\n",
    "        dfout[0] = grad_f0(a)\n",
    "        \n",
    "        fout[1:] = get_f1(a)\n",
    "        dfout[1:, :] = grad_f1(a)\n",
    "\n",
    "        return (matrix(fout.reshape(m+1, 1)), \n",
    "                matrix(dfout))\n",
    "  \n"
   ]
  },
  {
   "cell_type": "code",
   "execution_count": null,
   "metadata": {
    "collapsed": false
   },
   "outputs": [],
   "source": []
  },
  {
   "cell_type": "code",
   "execution_count": null,
   "metadata": {
    "collapsed": true
   },
   "outputs": [],
   "source": []
  },
  {
   "cell_type": "code",
   "execution_count": null,
   "metadata": {
    "collapsed": true
   },
   "outputs": [],
   "source": []
  },
  {
   "cell_type": "code",
   "execution_count": null,
   "metadata": {
    "collapsed": false
   },
   "outputs": [],
   "source": []
  },
  {
   "cell_type": "markdown",
   "metadata": {},
   "source": [
    "## Solve for the minimum volume ellipsoid containing all the points\n"
   ]
  },
  {
   "cell_type": "code",
   "execution_count": 48,
   "metadata": {
    "collapsed": false
   },
   "outputs": [
    {
     "name": "stdout",
     "output_type": "stream",
     "text": [
      "[-0.49784113 -1.39398823  0.24283676 -0.13693586  0.40486982]\n",
      "[[ 0.24283676 -0.13693586]\n",
      " [-0.13693586  0.40486982]]\n",
      "[[ 5.08848757  1.72103817]\n",
      " [ 1.72103817  3.05202257]]\n",
      "[-0.49784113 -1.39398823]\n"
     ]
    }
   ],
   "source": [
    "sol = solvers.cp(F)\n",
    "solx = np.array(sol['x']).flatten()\n",
    "print(solx)\n",
    "b = get_b(solx)\n",
    "A = get_A(solx)\n",
    "\n",
    "Ainv = la.inv(A)\n",
    "\n",
    "print(A)\n",
    "print(Ainv)\n",
    "print(b)"
   ]
  },
  {
   "cell_type": "markdown",
   "metadata": {},
   "source": [
    "# Make a plot showing min. vol ellipsoid"
   ]
  },
  {
   "cell_type": "code",
   "execution_count": 49,
   "metadata": {
    "collapsed": false
   },
   "outputs": [
    {
     "data": {
      "text/plain": [
       "(-2.0, 12.0, 1.0, 9.0)"
      ]
     },
     "execution_count": 49,
     "metadata": {},
     "output_type": "execute_result"
    },
    {
     "data": {
      "image/png": "[encoded data removed]",
      "text/plain": [
       "<matplotlib.figure.Figure at 0x7f21e94b70d0>"
      ]
     },
     "metadata": {},
     "output_type": "display_data"
    }
   ],
   "source": [
    "circle = sp.array([[cos(phi), sin(phi)] for phi in sp.linspace(0, 2.0*sp.pi, 513)[:-1]])\n",
    "\n",
    "\n",
    "Ainv = la.inv(A)\n",
    "\n",
    "ellipse = sp.dot(circle-b, Ainv)\n",
    "\n",
    "\n",
    "plt.plot(ellipse[:, 0], ellipse[:, 1], '-k', linewidth=2)\n",
    "plt.plot(samples[:, 0], samples[:, 1],'or', markersize=4)\n",
    "plt.axis('equal')"
   ]
  },
  {
   "cell_type": "markdown",
   "metadata": {},
   "source": [
    "# Determine candidats for removal"
   ]
  },
  {
   "cell_type": "code",
   "execution_count": 50,
   "metadata": {
    "collapsed": false
   },
   "outputs": [
    {
     "data": {
      "text/plain": [
       "(-2.0, 12.0, 1.0, 9.0)"
      ]
     },
     "execution_count": 50,
     "metadata": {},
     "output_type": "execute_result"
    },
    {
     "data": {
      "image/png": "[encoded data removed]",
      "text/plain": [
       "<matplotlib.figure.Figure at 0x7f21e90c75d0>"
      ]
     },
     "metadata": {},
     "output_type": "display_data"
    }
   ],
   "source": [
    "def xinxout(x, A=A, b=b):\n",
    "    \"Define the signed distance to the boundary.\"\n",
    "    v = sp.dot(A, x.T) + b[:, None]\n",
    "    Iinside = la.norm(v, axis=0) <  (1 - sp.sqrt(EPS))\n",
    "    #print(Iinside)\n",
    "    xin = x[Iinside, :]\n",
    "    xout = x[~Iinside, :]\n",
    "    return xin, xout\n",
    "\n",
    "xin, xout = xinxout(samples)\n",
    "plt.plot(ellipse[:, 0], ellipse[:, 1], '-k', linewidth=2)\n",
    "plt.plot(xin[:, 0], xin[:, 1],'ob', markersize=4)\n",
    "plt.plot(xout[:, 0], xout[:, 1],'or', markersize=6)\n",
    "plt.axis('equal')\n"
   ]
  },
  {
   "cell_type": "code",
   "execution_count": null,
   "metadata": {
    "collapsed": true
   },
   "outputs": [],
   "source": []
  },
  {
   "cell_type": "code",
   "execution_count": null,
   "metadata": {
    "collapsed": true
   },
   "outputs": [],
   "source": []
  },
  {
   "cell_type": "code",
   "execution_count": null,
   "metadata": {
    "collapsed": true
   },
   "outputs": [],
   "source": []
  },
  {
   "cell_type": "code",
   "execution_count": null,
   "metadata": {
    "collapsed": true
   },
   "outputs": [],
   "source": []
  },
  {
   "cell_type": "code",
   "execution_count": null,
   "metadata": {
    "collapsed": true
   },
   "outputs": [],
   "source": []
  },
  {
   "cell_type": "code",
   "execution_count": null,
   "metadata": {
    "collapsed": true
   },
   "outputs": [],
   "source": []
  },
  {
   "cell_type": "code",
   "execution_count": null,
   "metadata": {
    "collapsed": true
   },
   "outputs": [],
   "source": []
  },
  {
   "cell_type": "code",
   "execution_count": null,
   "metadata": {
    "collapsed": true
   },
   "outputs": [],
   "source": []
  },
  {
   "cell_type": "code",
   "execution_count": null,
   "metadata": {
    "collapsed": true
   },
   "outputs": [],
   "source": []
  },
  {
   "cell_type": "code",
   "execution_count": null,
   "metadata": {
    "collapsed": true
   },
   "outputs": [],
   "source": []
  }
 ],
 "metadata": {
  "kernelspec": {
   "display_name": "Python 2",
   "language": "python",
   "name": "python2"
  },
  "language_info": {
   "codemirror_mode": {
    "name": "ipython",
    "version": 2
   },
   "file_extension": ".py",
   "mimetype": "text/x-python",
   "name": "python",
   "nbconvert_exporter": "python",
   "pygments_lexer": "ipython2",
   "version": "2.7.11"
  }
 },
 "nbformat": 4,
 "nbformat_minor": 0
}
