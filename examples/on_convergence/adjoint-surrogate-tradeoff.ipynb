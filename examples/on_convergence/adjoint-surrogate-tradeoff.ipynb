{
 "cells": [
  {
   "cell_type": "markdown",
   "metadata": {},
   "source": [
    "# When is it worth using the adjoint method?\n",
    "\n",
    "Relative to the surrogate function method, the adjoint method as one dissadvantage (cost per iteration) and one advantage (gradient accuracy).  The dissadvantage is that the adjoint method will require more computation time for each step in the retrieval.  The surrogate function method requires for each itteration on average, \n",
    "\n",
    "$T_{\\mathrm{sur}} = t_0 + t_J / N_J$,\n",
    "\n",
    "where $t_{J}$ is the cost of running SHDOM and $t_{0}$ is all other computation time per itteration.  The adjoint method will require (assuming the same non-SHDOM time), \n",
    "\n",
    "$T_{\\mathrm{adj}} = t_{0} + 2 t_J $.\n",
    "\n",
    "So the adjoint itterations would be quite a bit more expensive.  \n",
    "\n",
    "However, the adjoint would be able to compute a much more accurate gradient.  Instead of approximating the gradient with, \n",
    "\n",
    "$\\frac{\\partial}{\\partial \\beta_{k}}\\mathcal{F} = \\mathcal{M} \\frac{\\partial\\mathcal{T}(\\beta)}{\\partial \\beta_{k}} \\mathcal{J}(\\beta_{0}),$\n",
    "\n",
    "we also get the effect of varying $J$:\n",
    "\n",
    "$\\frac{\\partial}{\\partial \\beta_{k}}\\mathcal{F} = \\mathcal{M} (\\frac{\\partial\\mathcal{T}(\\beta)}{\\partial \\beta_{k}} \\mathcal{J}(\\beta)+  \\mathcal{T}(\\beta)\\frac{\\partial\\mathcal{J}(\\beta)}{\\partial \\beta_{k}}).$\n",
    "\n",
    "The second term might be large for optically thick clouds.  This might not occur at the initial iterations.  Instead it would happen once the retrieval has reached a point where changes to extincion affect measurements through multiple scattering.  \n",
    "\n",
    "##  My suspicion\n",
    "(1) For optically thin clouds, the adjoint method will not be useful.  The surrogate function method will do great.\n",
    "\n",
    "(2) For optically thick clouds, there may be a time in the retrieval when the surrogate function method \"stalls out\".  When adjustments to extinction need to occur deeper inside the cloud and end up changing $\\mathcal{J}(\\beta)$ more than they change $\\mathcal{T}(\\beta)$.\n",
    "\n",
    "## Question:\n",
    "\n",
    "A lot depends on whether the surrogate function method actually does stall out in this way for optically thick clouds.  More over it would have to stall out bad enough so that the accurate calculation of $\\frac{\\partial\\Phi}{\\partial \\beta_{k}}$ makes up for at least one extra call to SHDOM.\n",
    "\n",
    "For optically thick clouds does the order of convergence differ from what you would expect?\n",
    "\n",
    "- $1/N$ for gradient descent \n",
    "- $1/N^2$ for Newton\n",
    "- and somewhere in between for quasi-newton methods? "
   ]
  },
  {
   "cell_type": "markdown",
   "metadata": {},
   "source": [
    "## Code project to compare the effect of different convergence rates\n",
    "\n",
    "I wrote the following code to summarize how I'm thinking about the trade off.  The difference with the adjoint method is that each step is more expensive and the gradient is more accurate.  With a more accurate gradient I think it is reasonable to assume that the order of convergence will be faster.  So, if we take into consideration the time of each step, for the surrogate function method the convergence is described by, \n",
    "\n",
    "$E_{sur}(t) = N^{-\\alpha_{sur}}$\n",
    "\n",
    "$\\qquad = {(t_{0}+ t_{J}/N_{J})}^{\\alpha_{sur}} t^{-\\alpha_{sur}}.$\n",
    "\n",
    "For the adjoint method, the order of convergence is better, but the longer time for each step gives a larger constent factor out front, \n",
    "\n",
    "$E_{adj}(t) = N^{-\\alpha_{adj}}$\n",
    "\n",
    "$\\qquad = {(t_{0}+ 2 t_{J})}^{\\alpha_{adj}} t^{-\\alpha_{adj}}.$\n",
    "\n",
    "In this notebook, I pick values for each of the variables and plot the error in time for the two different methods.  The key parameters are the orders of convergence for the surrogate function method $\\alpha_{sur}$ and adjoint method $\\alpha_{adj}$.  Also, the time for optimization and time for SHDOM might be very different from what I guessed.  See T0 and TJ in the code.  \n",
    "\n",
    "From Figure 8 in [Aides et al. 2015] it looked like $\\alpha_{sur}\\approx 0.8$.  This is slightly slower than the result for gradient decent, which is $\\alpha=1.0$. In any case, the adjoint method with gradient descent would never improve beyond $\\alpha=1.0$.  "
   ]
  },
  {
   "cell_type": "code",
   "execution_count": 6,
   "metadata": {
    "collapsed": true
   },
   "outputs": [],
   "source": [
    "%matplotlib inline\n",
    "import matplotlib\n",
    "import matplotlib.pyplot as plt\n",
    "\n",
    "\n",
    "#\n",
    "import scipy as sp\n",
    "import numpy as np\n"
   ]
  },
  {
   "cell_type": "code",
   "execution_count": 7,
   "metadata": {
    "collapsed": true
   },
   "outputs": [],
   "source": [
    "# Define constants\n",
    "T0 = 1e-5 # time for one optimization step (excluding SHDOM)\n",
    "TJ = 1e2  # time for one call to SHDOM\n",
    "NBETA = 7 # Number of steps per call to SHDOM\n",
    "\n",
    "# Order of convergence for the two methods  \n",
    "ALPHA_SUR = 0.8 # Order for Surrogate method (Approximate gradient)  \n",
    "ALPHA_ADJ = 1.5 #1.0 # Order for adjoint (exact gradient)"
   ]
  },
  {
   "cell_type": "code",
   "execution_count": 8,
   "metadata": {
    "collapsed": false
   },
   "outputs": [],
   "source": [
    "# Define a function to compute the Error of aviads method\n",
    "def Esur(t, t0=T0, tj=TJ, Nbeta=NBETA, alpha=ALPHA_SUR):\n",
    "    \"\"\"\n",
    "    Compute the error as a function of time.\n",
    "    \"\"\"\n",
    "    #Each step time\n",
    "    Tstep = t0 + tj / Nbeta\n",
    "\n",
    "    # Error after time t\n",
    "    error = (t / Tstep)**(-alpha)\n",
    "    return error\n",
    "\n",
    "# Define a function to compute the Error of the adjoint method\n",
    "def Eadj(t, alpha=ALPHA_ADJ, t0=T0, tj=TJ):\n",
    "    \"Compute the error for the adjoint method.\"\n",
    "    \n",
    "    # Time for one adjoint itteration (takes two calls to SHDOM)\n",
    "    Tstep = t0 + 2 * tj\n",
    "    \n",
    "    # Error after time t\n",
    "    error = (t / Tstep)**(-alpha)\n",
    "    return error"
   ]
  },
  {
   "cell_type": "code",
   "execution_count": 9,
   "metadata": {
    "collapsed": false
   },
   "outputs": [
    {
     "data": {
      "image/png": "[encoded data removed]",
      "text/plain": [
       "<matplotlib.figure.Figure at 0x7fdc0efd7d50>"
      ]
     },
     "metadata": {},
     "output_type": "display_data"
    }
   ],
   "source": [
    "# Plot the error of the two methods\n",
    "tmin = 2.0 * TJ\n",
    "tmax = 100 * TJ\n",
    "\n",
    "f0 = plt.figure(0)\n",
    "f0.clf()\n",
    "a0 = f0.add_axes([.1, .1, .8, .8])\n",
    "t = sp.linspace(tmin, tmax, 10000)\n",
    "\n",
    "#Plot the values of Eavi Eadj\n",
    "esur = Esur(t)\n",
    "eadj = Eadj(t)\n",
    "\n",
    "a0.plot(t, esur, color='red', linewidth=2.0, label='Surrogate')\n",
    "a0.plot(t, eadj, color='blue', linewidth=2.0, label='Adjoint')\n",
    "a0.set_ybound(0.0, 100)\n",
    "a0.legend(loc='right')\n",
    "a0.set_ybound((0.0, 0.5))"
   ]
  },
  {
   "cell_type": "markdown",
   "metadata": {},
   "source": [
    "## OK, so when do we switch methods?\n",
    "\n",
    "We need to choose a value for the error $E(t)$ where the adjoint method will give faster decrease in error.  That is, for two different times the error value $E_{adj}(t_{adj}) = E_{sur}(t_{sur})$ with their derivatives also equal, \n",
    "\n",
    "$\\frac{\\partial E_{adj}(t_{adj})}{\\partial t} = \\frac{\\partial E_{sur}(t_{sur})}{\\partial t}.$\n",
    "\n",
    "The value of the error here is a good choice for switching to the adjoint method.  Since for error less than that the adjoint method should have a faster decrease in error over time.\n"
   ]
  },
  {
   "cell_type": "code",
   "execution_count": 10,
   "metadata": {
    "collapsed": false
   },
   "outputs": [
    {
     "name": "stdout",
     "output_type": "stream",
     "text": [
      "<dEsur/dt> = -1.181544912e-05\n",
      "<dEadj/dt> = -0.000101752208945\n"
     ]
    },
    {
     "data": {
      "text/plain": [
       "<matplotlib.legend.Legend at 0x7fdc0c5fee50>"
      ]
     },
     "execution_count": 10,
     "metadata": {},
     "output_type": "execute_result"
    },
    {
     "data": {
      "image/png": "[encoded data removed]",
      "text/plain": [
       "<matplotlib.figure.Figure at 0x7fdc0c6f82d0>"
      ]
     },
     "metadata": {},
     "output_type": "display_data"
    }
   ],
   "source": [
    "# Derivatives\n",
    "desur = (esur[1:]- esur[:-1]) / (t[1:]-t[:-1])\n",
    "deadj = (eadj[1:]- eadj[:-1]) / (t[1:]-t[:-1])\n",
    "tmid = (t[1:] + t[:-1]) / 2.0\n",
    "esurmid = (esur[1:] + esur[:-1]) / 2.0\n",
    "eadjmid = (eadj[1:] + eadj[:-1]) / 2.0\n",
    "\n",
    "print(\"<dEsur/dt> = {0}\".format(desur.mean()))\n",
    "print(\"<dEadj/dt> = {0}\".format(deadj.mean()))\n",
    "\n",
    "f1 = plt.figure(1)\n",
    "f1.clf()\n",
    "a1 = f1.add_axes([.1, .1, .8, .8])\n",
    "a1.loglog(esurmid, -desur, color='red', linewidth=2.0, label='Surrogate')\n",
    "a1.loglog(eadjmid, -deadj, color='blue', linewidth=2.0, linestyle='--',label='Adjoint')\n",
    "#a1.set_ybound((-1e0, 0.0))\n",
    "#a1.set_xbound((esurmid.min(), esurmid.max()))\n",
    "#a1.set_ybound((-1e-3, 0.0))\n",
    "a1.set_ylabel(r\"$-\\partial E / \\partial t$\")\n",
    "a1.set_xlabel(r\"The value of the error $E(t)$\")\n",
    "a1.legend(loc='right')"
   ]
  },
  {
   "cell_type": "code",
   "execution_count": null,
   "metadata": {
    "collapsed": true
   },
   "outputs": [],
   "source": []
  },
  {
   "cell_type": "code",
   "execution_count": null,
   "metadata": {
    "collapsed": true
   },
   "outputs": [],
   "source": []
  }
 ],
 "metadata": {
  "kernelspec": {
   "display_name": "Python 2",
   "language": "python",
   "name": "python2"
  },
  "language_info": {
   "codemirror_mode": {
    "name": "ipython",
    "version": 2
   },
   "file_extension": ".py",
   "mimetype": "text/x-python",
   "name": "python",
   "nbconvert_exporter": "python",
   "pygments_lexer": "ipython2",
   "version": "2.7.10"
  }
 },
 "nbformat": 4,
 "nbformat_minor": 0
}
